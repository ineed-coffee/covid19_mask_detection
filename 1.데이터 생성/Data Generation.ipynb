{
 "cells": [
  {
   "cell_type": "code",
   "execution_count": 1,
   "metadata": {},
   "outputs": [],
   "source": [
    "import os\n",
    "import sys\n",
    "import random\n",
    "import numpy as np\n",
    "from PIL import Image, ImageFile\n",
    "from facemasker import FacialMask\n",
    "import shutil\n",
    "import zipfile"
   ]
  },
  {
   "cell_type": "markdown",
   "metadata": {},
   "source": [
    "## 1. Download open face-dataset  [FFHQ Face Data Set](https://www.kaggle.com/greatgamedota/ffhq-face-data-set#)  \n",
    "## 2. Download 2 custom mask image [flat_mask](https://drive.google.com/file/d/1Nwudqs3pkVUjxDKzlYNErGmwO_j_E2lr/view?usp=sharing) , [curved_mask](https://drive.google.com/file/d/1h-2EOPpGWh1sXa4mQBxumH8le738tFLO/view?usp=sharing) "
   ]
  },
  {
   "cell_type": "code",
   "execution_count": 2,
   "metadata": {},
   "outputs": [],
   "source": [
    "zip_path = 'D:/test/archive.zip'\n",
    "flat_path = \"C:/Users/이동재/Desktop/그림/2차세미/flat.png\"\n",
    "curved_path = \"C:/Users/이동재/Desktop/그림/2차세미/curved.png\""
   ]
  },
  {
   "cell_type": "markdown",
   "metadata": {},
   "source": [
    "## 3. Set datasize (number of images)"
   ]
  },
  {
   "cell_type": "code",
   "execution_count": 3,
   "metadata": {},
   "outputs": [],
   "source": [
    "sample_size=1000"
   ]
  },
  {
   "cell_type": "code",
   "execution_count": 4,
   "metadata": {},
   "outputs": [],
   "source": [
    "with zipfile.ZipFile(zip_path,\"r\") as my_zip:\n",
    "    files = my_zip.namelist()\n",
    "    samples = random.sample(files,sample_size)\n",
    "    upper_path = \"/\".join(zip_path.split(\"/\")[:-1])\n",
    "    for sample in samples:\n",
    "        my_zip.extract(sample,upper_path)\n",
    "    os.rename(os.path.join(upper_path,\"thumbnails128x128\"),os.path.join(upper_path,\"no_mask\"))"
   ]
  },
  {
   "cell_type": "markdown",
   "metadata": {},
   "source": [
    "## 4. Generate masked images "
   ]
  },
  {
   "cell_type": "code",
   "execution_count": 5,
   "metadata": {},
   "outputs": [
    {
     "name": "stdout",
     "output_type": "stream",
     "text": [
      "Generated 992 images with type: full_mask\n",
      "Generated 990 images with type: nose_mask\n",
      "Generated 989 images with type: chin_mask\n"
     ]
    }
   ],
   "source": [
    "image_path = upper_path+\"/\"+\"no_mask\"\n",
    "FacialMask(img_path=image_path,flat_mask_path=flat_path,curved_mask_path=curved_path).mask()"
   ]
  }
 ],
 "metadata": {
  "kernelspec": {
   "display_name": "Python 3",
   "language": "python",
   "name": "python3"
  },
  "language_info": {
   "codemirror_mode": {
    "name": "ipython",
    "version": 3
   },
   "file_extension": ".py",
   "mimetype": "text/x-python",
   "name": "python",
   "nbconvert_exporter": "python",
   "pygments_lexer": "ipython3",
   "version": "3.6.12"
  }
 },
 "nbformat": 4,
 "nbformat_minor": 4
}
