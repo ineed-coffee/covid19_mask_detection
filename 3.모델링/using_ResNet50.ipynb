{
 "cells": [
  {
   "cell_type": "code",
   "execution_count": 1,
   "metadata": {},
   "outputs": [],
   "source": [
    "from keras.models import Model\n",
    "from keras.layers import GlobalAveragePooling2D , Dropout , Dense\n",
    "from keras.applications.resnet50 import ResNet50\n",
    "from keras.preprocessing.image import ImageDataGenerator\n",
    "from tensorflow.keras.optimizers import SGD,Adam\n",
    "from keras.models import load_model\n",
    "import matplotlib.pyplot as plt"
   ]
  },
  {
   "cell_type": "markdown",
   "metadata": {},
   "source": [
    "### Compile model"
   ]
  },
  {
   "cell_type": "code",
   "execution_count": 2,
   "metadata": {},
   "outputs": [],
   "source": [
    "CLASSES = 4"
   ]
  },
  {
   "cell_type": "code",
   "execution_count": 3,
   "metadata": {},
   "outputs": [],
   "source": [
    "base_model = ResNet50(input_shape=(90, 120, 3),weights='imagenet', include_top=False)\n",
    "x = base_model.output\n",
    "x = GlobalAveragePooling2D(name='avg_pool')(x)\n",
    "x = Dense(512, activation='relu')(x)\n",
    "#x = Dropout(0.4)(x)\n",
    "predictions = Dense(CLASSES, activation='softmax')(x)\n",
    "model = Model(inputs=base_model.input, outputs=predictions)"
   ]
  },
  {
   "cell_type": "markdown",
   "metadata": {},
   "source": [
    "### Load Images"
   ]
  },
  {
   "cell_type": "code",
   "execution_count": 4,
   "metadata": {},
   "outputs": [],
   "source": [
    "path = \"D:/test/dataset/\""
   ]
  },
  {
   "cell_type": "code",
   "execution_count": 5,
   "metadata": {},
   "outputs": [],
   "source": [
    "train_datagen = ImageDataGenerator(rescale=1./255,\n",
    "                                   rotation_range=15,\n",
    "                                   width_shift_range=0.1,\n",
    "                                   height_shift_range=0.1,\n",
    "                                   shear_range=0.5,\n",
    "                                   zoom_range=[0.8, 2.0],\n",
    "                                   horizontal_flip=True,\n",
    "                                   vertical_flip=True,\n",
    "                                   fill_mode='nearest')\n",
    "\n",
    "validate_datagen = ImageDataGenerator(rescale=1./255.)\n",
    "test_datagen = ImageDataGenerator(rescale=1./255.)"
   ]
  },
  {
   "cell_type": "code",
   "execution_count": 6,
   "metadata": {},
   "outputs": [
    {
     "name": "stdout",
     "output_type": "stream",
     "text": [
      "Found 424 images belonging to 4 classes.\n",
      "Found 124 images belonging to 4 classes.\n",
      "Found 64 images belonging to 4 classes.\n"
     ]
    }
   ],
   "source": [
    "train_generator = train_datagen.flow_from_directory(path+'train/',\n",
    "                                                  batch_size=10,\n",
    "                                                    target_size=(90,120),\n",
    "                                                  class_mode='categorical')\n",
    "\n",
    "validation_generator = validate_datagen.flow_from_directory(path+'val/',\n",
    "                                                      batch_size=10,\n",
    "                                                        target_size=(90,120),\n",
    "                                                      class_mode='categorical')\n",
    "\n",
    "test_generator = test_datagen.flow_from_directory(path+'test/',\n",
    "                                                      batch_size=10,\n",
    "                                                        target_size=(90,120),\n",
    "                                                      class_mode='categorical')"
   ]
  },
  {
   "cell_type": "markdown",
   "metadata": {},
   "source": [
    "### Train model (only the top layers)"
   ]
  },
  {
   "cell_type": "code",
   "execution_count": 7,
   "metadata": {
    "scrolled": true
   },
   "outputs": [
    {
     "name": "stdout",
     "output_type": "stream",
     "text": [
      "Epoch 1/50\n",
      "42/42 [==============================] - 21s 438ms/step - loss: 1.5475 - accuracy: 0.2924 - val_loss: 1.4013 - val_accuracy: 0.2583\n",
      "Epoch 2/50\n",
      "42/42 [==============================] - 17s 398ms/step - loss: 1.4045 - accuracy: 0.2981 - val_loss: 1.4575 - val_accuracy: 0.3167\n",
      "Epoch 3/50\n",
      "42/42 [==============================] - 17s 410ms/step - loss: 1.4070 - accuracy: 0.3005 - val_loss: 1.3768 - val_accuracy: 0.2417\n",
      "Epoch 4/50\n",
      "42/42 [==============================] - 18s 438ms/step - loss: 1.3360 - accuracy: 0.3331 - val_loss: 1.2906 - val_accuracy: 0.4083\n",
      "Epoch 5/50\n",
      "42/42 [==============================] - 18s 426ms/step - loss: 1.2795 - accuracy: 0.3826 - val_loss: 1.4669 - val_accuracy: 0.2750\n",
      "Epoch 6/50\n",
      "42/42 [==============================] - 19s 450ms/step - loss: 1.3383 - accuracy: 0.3327 - val_loss: 1.2256 - val_accuracy: 0.4083\n",
      "Epoch 7/50\n",
      "42/42 [==============================] - 17s 417ms/step - loss: 1.2714 - accuracy: 0.3677 - val_loss: 1.2415 - val_accuracy: 0.3917\n",
      "Epoch 8/50\n",
      "42/42 [==============================] - 17s 411ms/step - loss: 1.2428 - accuracy: 0.4219 - val_loss: 1.2454 - val_accuracy: 0.4583\n",
      "Epoch 9/50\n",
      "42/42 [==============================] - 16s 388ms/step - loss: 1.2414 - accuracy: 0.4744 - val_loss: 1.1516 - val_accuracy: 0.5583\n",
      "Epoch 10/50\n",
      "42/42 [==============================] - 16s 389ms/step - loss: 1.1858 - accuracy: 0.4817 - val_loss: 1.1407 - val_accuracy: 0.4750\n",
      "Epoch 11/50\n",
      "42/42 [==============================] - 17s 416ms/step - loss: 1.1636 - accuracy: 0.4735 - val_loss: 1.1332 - val_accuracy: 0.4500\n",
      "Epoch 12/50\n",
      "42/42 [==============================] - 17s 410ms/step - loss: 1.1717 - accuracy: 0.3812 - val_loss: 1.0626 - val_accuracy: 0.5167\n",
      "Epoch 13/50\n",
      "42/42 [==============================] - 17s 396ms/step - loss: 1.1641 - accuracy: 0.4611 - val_loss: 1.4203 - val_accuracy: 0.4250\n",
      "Epoch 14/50\n",
      "42/42 [==============================] - 17s 401ms/step - loss: 1.0628 - accuracy: 0.5528 - val_loss: 1.1141 - val_accuracy: 0.4333\n",
      "Epoch 15/50\n",
      "42/42 [==============================] - 18s 432ms/step - loss: 1.1315 - accuracy: 0.4477 - val_loss: 1.0704 - val_accuracy: 0.5333\n",
      "Epoch 16/50\n",
      "42/42 [==============================] - 18s 429ms/step - loss: 1.0798 - accuracy: 0.5186 - val_loss: 1.0031 - val_accuracy: 0.5917\n",
      "Epoch 17/50\n",
      "42/42 [==============================] - 19s 443ms/step - loss: 1.0296 - accuracy: 0.5667 - val_loss: 1.0007 - val_accuracy: 0.5500\n",
      "Epoch 18/50\n",
      "42/42 [==============================] - 18s 422ms/step - loss: 0.9984 - accuracy: 0.5881 - val_loss: 0.9338 - val_accuracy: 0.6750\n",
      "Epoch 19/50\n",
      "42/42 [==============================] - 18s 435ms/step - loss: 1.0013 - accuracy: 0.5417 - val_loss: 1.1060 - val_accuracy: 0.4667\n",
      "Epoch 20/50\n",
      "42/42 [==============================] - 17s 404ms/step - loss: 1.0691 - accuracy: 0.5354 - val_loss: 1.0113 - val_accuracy: 0.5083\n",
      "Epoch 21/50\n",
      "42/42 [==============================] - 17s 394ms/step - loss: 0.9222 - accuracy: 0.6337 - val_loss: 0.9082 - val_accuracy: 0.6417\n",
      "Epoch 22/50\n",
      "42/42 [==============================] - 17s 416ms/step - loss: 1.0002 - accuracy: 0.5583 - val_loss: 1.0178 - val_accuracy: 0.5000\n",
      "Epoch 23/50\n",
      "42/42 [==============================] - 19s 451ms/step - loss: 1.0432 - accuracy: 0.5156 - val_loss: 0.9740 - val_accuracy: 0.6167\n",
      "Epoch 24/50\n",
      "42/42 [==============================] - 19s 450ms/step - loss: 0.9795 - accuracy: 0.5486 - val_loss: 0.9284 - val_accuracy: 0.5500\n",
      "Epoch 25/50\n",
      "42/42 [==============================] - 23s 553ms/step - loss: 0.9918 - accuracy: 0.5640 - val_loss: 1.0447 - val_accuracy: 0.5000\n",
      "Epoch 26/50\n",
      "42/42 [==============================] - 20s 486ms/step - loss: 1.0529 - accuracy: 0.5613 - val_loss: 0.9502 - val_accuracy: 0.5583\n",
      "Epoch 27/50\n",
      "42/42 [==============================] - 22s 523ms/step - loss: 1.0027 - accuracy: 0.6236 - val_loss: 0.8575 - val_accuracy: 0.6917\n",
      "Epoch 28/50\n",
      "42/42 [==============================] - 20s 472ms/step - loss: 0.9892 - accuracy: 0.5774 - val_loss: 0.8225 - val_accuracy: 0.7417\n",
      "Epoch 29/50\n",
      "42/42 [==============================] - 20s 475ms/step - loss: 0.9666 - accuracy: 0.5815 - val_loss: 0.9767 - val_accuracy: 0.5667\n",
      "Epoch 30/50\n",
      "42/42 [==============================] - 19s 441ms/step - loss: 0.8766 - accuracy: 0.6362 - val_loss: 0.8387 - val_accuracy: 0.6417\n",
      "Epoch 31/50\n",
      "42/42 [==============================] - 26s 629ms/step - loss: 0.9158 - accuracy: 0.5842 - val_loss: 0.8065 - val_accuracy: 0.6750\n",
      "Epoch 32/50\n",
      "42/42 [==============================] - 23s 539ms/step - loss: 0.9169 - accuracy: 0.6226 - val_loss: 0.9538 - val_accuracy: 0.5917\n",
      "Epoch 33/50\n",
      "42/42 [==============================] - 20s 464ms/step - loss: 0.8368 - accuracy: 0.6877 - val_loss: 1.1592 - val_accuracy: 0.5167\n",
      "Epoch 34/50\n",
      "42/42 [==============================] - 18s 436ms/step - loss: 0.9209 - accuracy: 0.5997 - val_loss: 0.8278 - val_accuracy: 0.6667\n",
      "Epoch 35/50\n",
      "42/42 [==============================] - 19s 446ms/step - loss: 0.9197 - accuracy: 0.6072 - val_loss: 0.8969 - val_accuracy: 0.6167\n",
      "Epoch 36/50\n",
      "42/42 [==============================] - 22s 531ms/step - loss: 0.9069 - accuracy: 0.6219 - val_loss: 0.7942 - val_accuracy: 0.6833\n",
      "Epoch 37/50\n",
      "42/42 [==============================] - 20s 480ms/step - loss: 0.8829 - accuracy: 0.6484 - val_loss: 0.8372 - val_accuracy: 0.6417\n",
      "Epoch 38/50\n",
      "42/42 [==============================] - 23s 549ms/step - loss: 0.9279 - accuracy: 0.5814 - val_loss: 0.7793 - val_accuracy: 0.7083\n",
      "Epoch 39/50\n",
      "42/42 [==============================] - 19s 454ms/step - loss: 0.9076 - accuracy: 0.6242 - val_loss: 0.7754 - val_accuracy: 0.7250\n",
      "Epoch 40/50\n",
      "42/42 [==============================] - 19s 464ms/step - loss: 0.8451 - accuracy: 0.6875 - val_loss: 0.8549 - val_accuracy: 0.6250\n",
      "Epoch 41/50\n",
      "42/42 [==============================] - 23s 545ms/step - loss: 0.9020 - accuracy: 0.6249 - val_loss: 0.7980 - val_accuracy: 0.7167\n",
      "Epoch 42/50\n",
      "42/42 [==============================] - 19s 441ms/step - loss: 0.8952 - accuracy: 0.5812 - val_loss: 0.8345 - val_accuracy: 0.5833\n",
      "Epoch 43/50\n",
      "42/42 [==============================] - 19s 457ms/step - loss: 0.9102 - accuracy: 0.6342 - val_loss: 0.8321 - val_accuracy: 0.6667\n",
      "Epoch 44/50\n",
      "42/42 [==============================] - 18s 425ms/step - loss: 0.8094 - accuracy: 0.6690 - val_loss: 1.0424 - val_accuracy: 0.6083\n",
      "Epoch 45/50\n",
      "42/42 [==============================] - 17s 415ms/step - loss: 0.8924 - accuracy: 0.6393 - val_loss: 0.8476 - val_accuracy: 0.6583\n",
      "Epoch 46/50\n",
      "42/42 [==============================] - 17s 399ms/step - loss: 0.8788 - accuracy: 0.6660 - val_loss: 0.8080 - val_accuracy: 0.6583\n",
      "Epoch 47/50\n",
      "42/42 [==============================] - 19s 446ms/step - loss: 0.9400 - accuracy: 0.5834 - val_loss: 0.9374 - val_accuracy: 0.6250\n",
      "Epoch 48/50\n",
      "42/42 [==============================] - 18s 422ms/step - loss: 0.8277 - accuracy: 0.6116 - val_loss: 0.7096 - val_accuracy: 0.7500\n",
      "Epoch 49/50\n",
      "42/42 [==============================] - 17s 411ms/step - loss: 0.8315 - accuracy: 0.6509 - val_loss: 0.7742 - val_accuracy: 0.6333\n",
      "Epoch 50/50\n",
      "42/42 [==============================] - 17s 402ms/step - loss: 0.9207 - accuracy: 0.6063 - val_loss: 0.9446 - val_accuracy: 0.5583\n"
     ]
    }
   ],
   "source": [
    "for layer in base_model.layers:\n",
    "    layer.trainable = False\n",
    "\n",
    "model.compile(optimizer='rmsprop', loss='categorical_crossentropy',metrics=[\"accuracy\"])\n",
    "history = model.fit(\n",
    "  train_generator,\n",
    "  validation_data=validation_generator,\n",
    "  steps_per_epoch=train_generator.n//10,\n",
    "  epochs=50,\n",
    "  validation_steps=validation_generator.n//10\n",
    ")"
   ]
  },
  {
   "cell_type": "markdown",
   "metadata": {},
   "source": [
    "### Train (fine-tune bottom 2 layers)"
   ]
  },
  {
   "cell_type": "code",
   "execution_count": 8,
   "metadata": {
    "scrolled": true
   },
   "outputs": [
    {
     "name": "stdout",
     "output_type": "stream",
     "text": [
      "Epoch 1/50\n",
      "42/42 [==============================] - 24s 488ms/step - loss: 5.3990 - accuracy: 0.3301 - val_loss: 22.4954 - val_accuracy: 0.2833\n",
      "Epoch 2/50\n",
      "42/42 [==============================] - 20s 471ms/step - loss: 1.3452 - accuracy: 0.3708 - val_loss: 7.3153 - val_accuracy: 0.2333\n",
      "Epoch 3/50\n",
      "42/42 [==============================] - 20s 472ms/step - loss: 1.2637 - accuracy: 0.4084 - val_loss: 4.0242 - val_accuracy: 0.2750\n",
      "Epoch 4/50\n",
      "42/42 [==============================] - 20s 469ms/step - loss: 1.1509 - accuracy: 0.4672 - val_loss: 1.7723 - val_accuracy: 0.3083\n",
      "Epoch 5/50\n",
      "42/42 [==============================] - 19s 460ms/step - loss: 1.0935 - accuracy: 0.5135 - val_loss: 3.1384 - val_accuracy: 0.2583\n",
      "Epoch 6/50\n",
      "42/42 [==============================] - 19s 456ms/step - loss: 1.0625 - accuracy: 0.5310 - val_loss: 1.5085 - val_accuracy: 0.3000\n",
      "Epoch 7/50\n",
      "42/42 [==============================] - 19s 460ms/step - loss: 1.0258 - accuracy: 0.5285 - val_loss: 0.8438 - val_accuracy: 0.6500\n",
      "Epoch 8/50\n",
      "42/42 [==============================] - 19s 460ms/step - loss: 0.8759 - accuracy: 0.6145 - val_loss: 1.9263 - val_accuracy: 0.3333\n",
      "Epoch 9/50\n",
      "42/42 [==============================] - 19s 460ms/step - loss: 0.7763 - accuracy: 0.6620 - val_loss: 0.6386 - val_accuracy: 0.8000\n",
      "Epoch 10/50\n",
      "42/42 [==============================] - 19s 460ms/step - loss: 0.9096 - accuracy: 0.6113 - val_loss: 0.6865 - val_accuracy: 0.7333\n",
      "Epoch 11/50\n",
      "42/42 [==============================] - 19s 460ms/step - loss: 0.8511 - accuracy: 0.6581 - val_loss: 4.3201 - val_accuracy: 0.2417\n",
      "Epoch 12/50\n",
      "42/42 [==============================] - 20s 466ms/step - loss: 0.7248 - accuracy: 0.7077 - val_loss: 2.2147 - val_accuracy: 0.3167\n",
      "Epoch 13/50\n",
      "42/42 [==============================] - 19s 461ms/step - loss: 0.8372 - accuracy: 0.6469 - val_loss: 0.8055 - val_accuracy: 0.6750\n",
      "Epoch 14/50\n",
      "42/42 [==============================] - 20s 466ms/step - loss: 0.8749 - accuracy: 0.6054 - val_loss: 2.0428 - val_accuracy: 0.3583\n",
      "Epoch 15/50\n",
      "42/42 [==============================] - 20s 476ms/step - loss: 0.6744 - accuracy: 0.7232 - val_loss: 0.6494 - val_accuracy: 0.7167\n",
      "Epoch 16/50\n",
      "42/42 [==============================] - 19s 457ms/step - loss: 0.6725 - accuracy: 0.7299 - val_loss: 2.9352 - val_accuracy: 0.3000\n",
      "Epoch 17/50\n",
      "42/42 [==============================] - 20s 471ms/step - loss: 0.8003 - accuracy: 0.6799 - val_loss: 0.5314 - val_accuracy: 0.8333\n",
      "Epoch 18/50\n",
      "42/42 [==============================] - 19s 461ms/step - loss: 0.6846 - accuracy: 0.7322 - val_loss: 2.0973 - val_accuracy: 0.2833\n",
      "Epoch 19/50\n",
      "42/42 [==============================] - 20s 468ms/step - loss: 0.8428 - accuracy: 0.6551 - val_loss: 2.3461 - val_accuracy: 0.3417\n",
      "Epoch 20/50\n",
      "42/42 [==============================] - 19s 465ms/step - loss: 0.7631 - accuracy: 0.6918 - val_loss: 0.9527 - val_accuracy: 0.5583\n",
      "Epoch 21/50\n",
      "42/42 [==============================] - 19s 460ms/step - loss: 0.5752 - accuracy: 0.7828 - val_loss: 3.8285 - val_accuracy: 0.2583\n",
      "Epoch 22/50\n",
      "42/42 [==============================] - 19s 460ms/step - loss: 0.6530 - accuracy: 0.7100 - val_loss: 1.2656 - val_accuracy: 0.5333\n",
      "Epoch 23/50\n",
      "42/42 [==============================] - 19s 463ms/step - loss: 0.5920 - accuracy: 0.7807 - val_loss: 0.7337 - val_accuracy: 0.6833\n",
      "Epoch 24/50\n",
      "42/42 [==============================] - 19s 464ms/step - loss: 0.5815 - accuracy: 0.7931 - val_loss: 1.0107 - val_accuracy: 0.5000\n",
      "Epoch 25/50\n",
      "42/42 [==============================] - 19s 460ms/step - loss: 0.6159 - accuracy: 0.7771 - val_loss: 2.6588 - val_accuracy: 0.2667\n",
      "Epoch 26/50\n",
      "42/42 [==============================] - 19s 462ms/step - loss: 0.7684 - accuracy: 0.6879 - val_loss: 2.5221 - val_accuracy: 0.2583\n",
      "Epoch 27/50\n",
      "42/42 [==============================] - 19s 462ms/step - loss: 0.6247 - accuracy: 0.7386 - val_loss: 3.3180 - val_accuracy: 0.4083\n",
      "Epoch 28/50\n",
      "42/42 [==============================] - 20s 471ms/step - loss: 0.6038 - accuracy: 0.7902 - val_loss: 1.5645 - val_accuracy: 0.3667\n",
      "Epoch 29/50\n",
      "42/42 [==============================] - 22s 515ms/step - loss: 0.8722 - accuracy: 0.6537 - val_loss: 3.5220 - val_accuracy: 0.2667\n",
      "Epoch 30/50\n",
      "42/42 [==============================] - 23s 554ms/step - loss: 0.5764 - accuracy: 0.7678 - val_loss: 1.2900 - val_accuracy: 0.3750\n",
      "Epoch 31/50\n",
      "42/42 [==============================] - 19s 457ms/step - loss: 0.7354 - accuracy: 0.6856 - val_loss: 0.5433 - val_accuracy: 0.7417\n",
      "Epoch 32/50\n",
      "42/42 [==============================] - 20s 469ms/step - loss: 0.6764 - accuracy: 0.7203 - val_loss: 0.9153 - val_accuracy: 0.6333\n",
      "Epoch 33/50\n",
      "42/42 [==============================] - 20s 468ms/step - loss: 0.5684 - accuracy: 0.7719 - val_loss: 1.1880 - val_accuracy: 0.5500\n",
      "Epoch 34/50\n",
      "42/42 [==============================] - 19s 458ms/step - loss: 0.6157 - accuracy: 0.7704 - val_loss: 4.0860 - val_accuracy: 0.4583\n",
      "Epoch 35/50\n",
      "42/42 [==============================] - 19s 458ms/step - loss: 0.5324 - accuracy: 0.7831 - val_loss: 1.2801 - val_accuracy: 0.5083\n",
      "Epoch 36/50\n",
      "42/42 [==============================] - 22s 524ms/step - loss: 0.5748 - accuracy: 0.7346 - val_loss: 2.2343 - val_accuracy: 0.4833\n",
      "Epoch 37/50\n",
      "42/42 [==============================] - 20s 483ms/step - loss: 0.6690 - accuracy: 0.7297 - val_loss: 0.7953 - val_accuracy: 0.6667\n",
      "Epoch 38/50\n",
      "42/42 [==============================] - 25s 589ms/step - loss: 0.6376 - accuracy: 0.7730 - val_loss: 8.5219 - val_accuracy: 0.2583\n",
      "Epoch 39/50\n",
      "42/42 [==============================] - 22s 534ms/step - loss: 0.5920 - accuracy: 0.7981 - val_loss: 1.2847 - val_accuracy: 0.4250\n",
      "Epoch 40/50\n",
      "42/42 [==============================] - 25s 602ms/step - loss: 0.5675 - accuracy: 0.7730 - val_loss: 1.4888 - val_accuracy: 0.5500\n",
      "Epoch 41/50\n",
      "42/42 [==============================] - 20s 485ms/step - loss: 0.5693 - accuracy: 0.7909 - val_loss: 2.4466 - val_accuracy: 0.2583\n",
      "Epoch 42/50\n",
      "42/42 [==============================] - 20s 468ms/step - loss: 0.5215 - accuracy: 0.7940 - val_loss: 0.5216 - val_accuracy: 0.7833\n",
      "Epoch 43/50\n",
      "42/42 [==============================] - 20s 481ms/step - loss: 0.5181 - accuracy: 0.8071 - val_loss: 1.2944 - val_accuracy: 0.5500\n",
      "Epoch 44/50\n",
      "42/42 [==============================] - 20s 477ms/step - loss: 0.5446 - accuracy: 0.7989 - val_loss: 4.1860 - val_accuracy: 0.3167\n",
      "Epoch 45/50\n",
      "42/42 [==============================] - 20s 475ms/step - loss: 0.4708 - accuracy: 0.8317 - val_loss: 0.9134 - val_accuracy: 0.6167\n",
      "Epoch 46/50\n",
      "42/42 [==============================] - 20s 476ms/step - loss: 0.5924 - accuracy: 0.7691 - val_loss: 0.5662 - val_accuracy: 0.8000\n",
      "Epoch 47/50\n",
      "42/42 [==============================] - 19s 464ms/step - loss: 0.4509 - accuracy: 0.8338 - val_loss: 1.1066 - val_accuracy: 0.5500\n",
      "Epoch 48/50\n",
      "42/42 [==============================] - 20s 476ms/step - loss: 0.5465 - accuracy: 0.7835 - val_loss: 1.4820 - val_accuracy: 0.5417\n",
      "Epoch 49/50\n",
      "42/42 [==============================] - 20s 467ms/step - loss: 0.6226 - accuracy: 0.7625 - val_loss: 2.1690 - val_accuracy: 0.3667\n",
      "Epoch 50/50\n",
      "42/42 [==============================] - 20s 476ms/step - loss: 0.6757 - accuracy: 0.7421 - val_loss: 2.0842 - val_accuracy: 0.3917\n"
     ]
    }
   ],
   "source": [
    "for layer in model.layers[:168]:\n",
    "    layer.trainable = False\n",
    "for layer in model.layers[168:]:\n",
    "    layer.trainable = True\n",
    "\n",
    "#SGD(lr=0.0001, momentum=0.9)\n",
    "model.compile(optimizer=Adam(), loss='categorical_crossentropy',metrics=[\"accuracy\"])\n",
    "history = model.fit(\n",
    "  train_generator,\n",
    "  validation_data=validation_generator,\n",
    "  steps_per_epoch=train_generator.n//10,\n",
    "  epochs=50,\n",
    "  validation_steps=validation_generator.n//10\n",
    ")"
   ]
  },
  {
   "cell_type": "markdown",
   "metadata": {},
   "source": [
    "### Evaluate model & Visualize performance"
   ]
  },
  {
   "cell_type": "code",
   "execution_count": 9,
   "metadata": {},
   "outputs": [
    {
     "name": "stdout",
     "output_type": "stream",
     "text": [
      "7/7 [==============================] - 2s 283ms/step - loss: 2.1591 - accuracy: 0.3750\n"
     ]
    },
    {
     "data": {
      "text/plain": [
       "[2.159130334854126, 0.375]"
      ]
     },
     "execution_count": 9,
     "metadata": {},
     "output_type": "execute_result"
    }
   ],
   "source": [
    "model.evaluate(test_generator)"
   ]
  },
  {
   "cell_type": "code",
   "execution_count": 10,
   "metadata": {},
   "outputs": [
    {
     "data": {
      "image/png": "[encoded data removed]",
      "text/plain": [
       "<Figure size 432x288 with 1 Axes>"
      ]
     },
     "metadata": {
      "needs_background": "light"
     },
     "output_type": "display_data"
    }
   ],
   "source": [
    "acc = history.history['accuracy']\n",
    "val_acc = history.history['val_accuracy']\n",
    "loss = history.history['loss']\n",
    "val_loss = history.history['val_loss']\n",
    "\n",
    "epochs = range(len(acc))\n",
    "\n",
    "plt.plot(epochs, acc, 'r', label='Training accuracy')\n",
    "plt.plot(epochs, val_acc, 'b', label='Validation accuracy')\n",
    "plt.title('Training and validation accuracy')\n",
    "plt.legend(loc=0)\n",
    "fig = plt.gcf()\n",
    "fig.savefig('from_ResNet50.png',dpi=fig.dpi)\n",
    "plt.show()\n",
    "\n"
   ]
  },
  {
   "cell_type": "markdown",
   "metadata": {},
   "source": [
    "### Save model"
   ]
  },
  {
   "cell_type": "code",
   "execution_count": 11,
   "metadata": {},
   "outputs": [],
   "source": [
    "model.save('from_ResNet50.h5')\n",
    "model.save_weights('from_ResNet50_weights.h5')"
   ]
  }
 ],
 "metadata": {
  "kernelspec": {
   "display_name": "Python 3",
   "language": "python",
   "name": "python3"
  },
  "language_info": {
   "codemirror_mode": {
    "name": "ipython",
    "version": 3
   },
   "file_extension": ".py",
   "mimetype": "text/x-python",
   "name": "python",
   "nbconvert_exporter": "python",
   "pygments_lexer": "ipython3",
   "version": "3.6.12"
  }
 },
 "nbformat": 4,
 "nbformat_minor": 4
}
