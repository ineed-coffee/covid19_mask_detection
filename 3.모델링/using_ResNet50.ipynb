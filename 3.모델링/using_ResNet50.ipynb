{
 "cells": [
  {
   "cell_type": "code",
   "execution_count": 8,
   "metadata": {},
   "outputs": [],
   "source": [
    "from keras.models import Model\n",
    "from keras.layers import GlobalAveragePooling2D , Dropout , Dense ,Flatten\n",
    "from keras.applications.resnet50 import ResNet50\n",
    "from keras.preprocessing.image import ImageDataGenerator\n",
    "from tensorflow.keras.optimizers import SGD,Adam\n",
    "from keras.models import load_model\n",
    "import matplotlib.pyplot as plt"
   ]
  },
  {
   "cell_type": "markdown",
   "metadata": {},
   "source": [
    "### Compile model [model cheat code](https://towardsdatascience.com/deep-learning-using-transfer-learning-python-code-for-resnet50-8acdfb3a2d38) "
   ]
  },
  {
   "cell_type": "markdown",
   "metadata": {},
   "source": [
    "[issue](https://github.com/keras-team/keras/issues/9214) "
   ]
  },
  {
   "cell_type": "code",
   "execution_count": 13,
   "metadata": {},
   "outputs": [],
   "source": [
    "CLASSES = 4"
   ]
  },
  {
   "cell_type": "code",
   "execution_count": 22,
   "metadata": {},
   "outputs": [],
   "source": [
    "base_model = ResNet50(input_shape=(90, 120, 3),weights='imagenet', include_top=False)\n",
    "x = base_model.output\n",
    "# x = GlobalAveragePooling2D(name='avg_pool')(x)\n",
    "x = Flatten()(x)\n",
    "x = Dense(512, activation='relu')(x)\n",
    "#x = Dropout(0.4)(x)\n",
    "predictions = Dense(CLASSES, activation='softmax')(x)\n",
    "model = Model(inputs=base_model.input, outputs=predictions)"
   ]
  },
  {
   "cell_type": "markdown",
   "metadata": {},
   "source": [
    "### Load Images"
   ]
  },
  {
   "cell_type": "code",
   "execution_count": 15,
   "metadata": {},
   "outputs": [],
   "source": [
    "path = \"D:/test/dataset/\""
   ]
  },
  {
   "cell_type": "code",
   "execution_count": 16,
   "metadata": {},
   "outputs": [],
   "source": [
    "train_datagen = ImageDataGenerator(rescale=1./255,\n",
    "                                   rotation_range=15,\n",
    "                                   width_shift_range=0.1,\n",
    "                                   height_shift_range=0.1,\n",
    "                                   shear_range=0.5,\n",
    "                                   zoom_range=[0.8, 2.0],\n",
    "                                   horizontal_flip=True,\n",
    "                                   vertical_flip=True,\n",
    "                                   fill_mode='nearest')\n",
    "\n",
    "validate_datagen = ImageDataGenerator(rescale=1./255.)\n",
    "test_datagen = ImageDataGenerator(rescale=1./255.)"
   ]
  },
  {
   "cell_type": "code",
   "execution_count": 17,
   "metadata": {},
   "outputs": [
    {
     "name": "stdout",
     "output_type": "stream",
     "text": [
      "Found 424 images belonging to 4 classes.\n",
      "Found 124 images belonging to 4 classes.\n",
      "Found 64 images belonging to 4 classes.\n"
     ]
    }
   ],
   "source": [
    "train_generator = train_datagen.flow_from_directory(path+'train/',\n",
    "                                                  batch_size=10,\n",
    "                                                    target_size=(90,120),\n",
    "                                                  class_mode='categorical')\n",
    "\n",
    "validation_generator = validate_datagen.flow_from_directory(path+'val/',\n",
    "                                                      batch_size=10,\n",
    "                                                        target_size=(90,120),\n",
    "                                                      class_mode='categorical')\n",
    "\n",
    "test_generator = test_datagen.flow_from_directory(path+'test/',\n",
    "                                                      batch_size=10,\n",
    "                                                        target_size=(90,120),\n",
    "                                                      class_mode='categorical')"
   ]
  },
  {
   "cell_type": "markdown",
   "metadata": {},
   "source": [
    "### Train model (only the top layers)"
   ]
  },
  {
   "cell_type": "code",
   "execution_count": 20,
   "metadata": {
    "scrolled": true
   },
   "outputs": [
    {
     "name": "stdout",
     "output_type": "stream",
     "text": [
      "Epoch 1/50\n",
      "42/42 [==============================] - 30s 628ms/step - loss: 3.6454 - accuracy: 0.2043 - val_loss: 1.6046 - val_accuracy: 0.4250\n",
      "Epoch 2/50\n",
      "42/42 [==============================] - 22s 517ms/step - loss: 1.6132 - accuracy: 0.2832 - val_loss: 1.3210 - val_accuracy: 0.3667\n",
      "Epoch 3/50\n",
      "42/42 [==============================] - 22s 521ms/step - loss: 1.4056 - accuracy: 0.3290 - val_loss: 1.4062 - val_accuracy: 0.2417\n",
      "Epoch 4/50\n",
      "42/42 [==============================] - 22s 531ms/step - loss: 1.3715 - accuracy: 0.3398 - val_loss: 1.1889 - val_accuracy: 0.4750\n",
      "Epoch 5/50\n",
      "42/42 [==============================] - 22s 518ms/step - loss: 1.3219 - accuracy: 0.3364 - val_loss: 1.1815 - val_accuracy: 0.4833\n",
      "Epoch 6/50\n",
      "42/42 [==============================] - 22s 525ms/step - loss: 1.3386 - accuracy: 0.3407 - val_loss: 1.1940 - val_accuracy: 0.4917\n",
      "Epoch 7/50\n",
      "42/42 [==============================] - 22s 524ms/step - loss: 1.1857 - accuracy: 0.4392 - val_loss: 1.2823 - val_accuracy: 0.3583\n",
      "Epoch 8/50\n",
      "42/42 [==============================] - 22s 522ms/step - loss: 1.1535 - accuracy: 0.5017 - val_loss: 1.0645 - val_accuracy: 0.5417\n",
      "Epoch 9/50\n",
      "42/42 [==============================] - 22s 531ms/step - loss: 1.2525 - accuracy: 0.3891 - val_loss: 1.0688 - val_accuracy: 0.4833\n",
      "Epoch 10/50\n",
      "42/42 [==============================] - 22s 527ms/step - loss: 1.0952 - accuracy: 0.5572 - val_loss: 1.0002 - val_accuracy: 0.5750\n",
      "Epoch 11/50\n",
      "42/42 [==============================] - 22s 525ms/step - loss: 1.0779 - accuracy: 0.5245 - val_loss: 1.0050 - val_accuracy: 0.6500\n",
      "Epoch 12/50\n",
      "42/42 [==============================] - 22s 530ms/step - loss: 1.0533 - accuracy: 0.5149 - val_loss: 0.9881 - val_accuracy: 0.5917\n",
      "Epoch 13/50\n",
      "42/42 [==============================] - 22s 523ms/step - loss: 1.0544 - accuracy: 0.5618 - val_loss: 1.0039 - val_accuracy: 0.5250\n",
      "Epoch 14/50\n",
      "42/42 [==============================] - 22s 536ms/step - loss: 0.9701 - accuracy: 0.5795 - val_loss: 0.8693 - val_accuracy: 0.7167\n",
      "Epoch 15/50\n",
      "42/42 [==============================] - 22s 533ms/step - loss: 1.0034 - accuracy: 0.5701 - val_loss: 0.8851 - val_accuracy: 0.6667\n",
      "Epoch 16/50\n",
      "42/42 [==============================] - 22s 522ms/step - loss: 0.9570 - accuracy: 0.5869 - val_loss: 0.9746 - val_accuracy: 0.5083\n",
      "Epoch 17/50\n",
      "42/42 [==============================] - 25s 587ms/step - loss: 1.0047 - accuracy: 0.5505 - val_loss: 1.0631 - val_accuracy: 0.5083\n",
      "Epoch 18/50\n",
      "42/42 [==============================] - 23s 545ms/step - loss: 1.0183 - accuracy: 0.5600 - val_loss: 0.7976 - val_accuracy: 0.7500\n",
      "Epoch 19/50\n",
      "42/42 [==============================] - 22s 529ms/step - loss: 0.8972 - accuracy: 0.5969 - val_loss: 0.8664 - val_accuracy: 0.5667\n",
      "Epoch 20/50\n",
      "42/42 [==============================] - 22s 532ms/step - loss: 0.9324 - accuracy: 0.6077 - val_loss: 0.7913 - val_accuracy: 0.7500\n",
      "Epoch 21/50\n",
      "42/42 [==============================] - 22s 525ms/step - loss: 0.8814 - accuracy: 0.6407 - val_loss: 1.2169 - val_accuracy: 0.4833\n",
      "Epoch 22/50\n",
      "42/42 [==============================] - 22s 524ms/step - loss: 0.9438 - accuracy: 0.5824 - val_loss: 0.8230 - val_accuracy: 0.6167\n",
      "Epoch 23/50\n",
      "42/42 [==============================] - 22s 526ms/step - loss: 0.9331 - accuracy: 0.6102 - val_loss: 0.8298 - val_accuracy: 0.7167\n",
      "Epoch 24/50\n",
      "42/42 [==============================] - 22s 529ms/step - loss: 0.9450 - accuracy: 0.5544 - val_loss: 0.8226 - val_accuracy: 0.6833\n",
      "Epoch 25/50\n",
      "42/42 [==============================] - 23s 556ms/step - loss: 0.8891 - accuracy: 0.6283 - val_loss: 0.9288 - val_accuracy: 0.5833\n",
      "Epoch 26/50\n",
      "42/42 [==============================] - 26s 624ms/step - loss: 0.9524 - accuracy: 0.5882 - val_loss: 0.8078 - val_accuracy: 0.6667\n",
      "Epoch 27/50\n",
      "42/42 [==============================] - 23s 560ms/step - loss: 0.8866 - accuracy: 0.6074 - val_loss: 1.1509 - val_accuracy: 0.5250\n",
      "Epoch 28/50\n",
      "42/42 [==============================] - 23s 561ms/step - loss: 0.9244 - accuracy: 0.5755 - val_loss: 0.8656 - val_accuracy: 0.6500\n",
      "Epoch 29/50\n",
      "42/42 [==============================] - 22s 534ms/step - loss: 0.8294 - accuracy: 0.6450 - val_loss: 0.6675 - val_accuracy: 0.8167\n",
      "Epoch 30/50\n",
      "42/42 [==============================] - 22s 526ms/step - loss: 0.8182 - accuracy: 0.6859 - val_loss: 0.8593 - val_accuracy: 0.5917\n",
      "Epoch 31/50\n",
      "42/42 [==============================] - 23s 556ms/step - loss: 0.9369 - accuracy: 0.6006 - val_loss: 0.9381 - val_accuracy: 0.5583\n",
      "Epoch 32/50\n",
      "42/42 [==============================] - 23s 544ms/step - loss: 0.7909 - accuracy: 0.6941 - val_loss: 0.8319 - val_accuracy: 0.6083\n",
      "Epoch 33/50\n",
      "42/42 [==============================] - 22s 534ms/step - loss: 0.7504 - accuracy: 0.6845 - val_loss: 0.7065 - val_accuracy: 0.7333\n",
      "Epoch 34/50\n",
      "42/42 [==============================] - 24s 570ms/step - loss: 0.8558 - accuracy: 0.6484 - val_loss: 1.3513 - val_accuracy: 0.4833\n",
      "Epoch 35/50\n",
      "42/42 [==============================] - 24s 562ms/step - loss: 0.9094 - accuracy: 0.6489 - val_loss: 0.6767 - val_accuracy: 0.7500\n",
      "Epoch 36/50\n",
      "42/42 [==============================] - 25s 600ms/step - loss: 0.7163 - accuracy: 0.6998 - val_loss: 0.7572 - val_accuracy: 0.6583\n",
      "Epoch 37/50\n",
      "42/42 [==============================] - 24s 572ms/step - loss: 0.8371 - accuracy: 0.6490 - val_loss: 0.7984 - val_accuracy: 0.6667\n",
      "Epoch 38/50\n",
      "42/42 [==============================] - 24s 570ms/step - loss: 0.8160 - accuracy: 0.6504 - val_loss: 0.6375 - val_accuracy: 0.7917\n",
      "Epoch 39/50\n",
      "42/42 [==============================] - 24s 578ms/step - loss: 0.8123 - accuracy: 0.6691 - val_loss: 0.7422 - val_accuracy: 0.6833\n",
      "Epoch 40/50\n",
      "42/42 [==============================] - 24s 576ms/step - loss: 0.7217 - accuracy: 0.6974 - val_loss: 0.6101 - val_accuracy: 0.8083\n",
      "Epoch 41/50\n",
      "42/42 [==============================] - 23s 548ms/step - loss: 0.6832 - accuracy: 0.7344 - val_loss: 0.6006 - val_accuracy: 0.8417\n",
      "Epoch 42/50\n",
      "42/42 [==============================] - 24s 566ms/step - loss: 0.8413 - accuracy: 0.6546 - val_loss: 0.8610 - val_accuracy: 0.5833\n",
      "Epoch 43/50\n",
      "42/42 [==============================] - 22s 533ms/step - loss: 0.6940 - accuracy: 0.7423 - val_loss: 0.8259 - val_accuracy: 0.6500\n",
      "Epoch 44/50\n",
      "42/42 [==============================] - 23s 543ms/step - loss: 0.7099 - accuracy: 0.7372 - val_loss: 1.0933 - val_accuracy: 0.5583\n",
      "Epoch 45/50\n",
      "42/42 [==============================] - 24s 571ms/step - loss: 0.7936 - accuracy: 0.6842 - val_loss: 0.9563 - val_accuracy: 0.5917\n",
      "Epoch 46/50\n",
      "42/42 [==============================] - 23s 544ms/step - loss: 0.8333 - accuracy: 0.6736 - val_loss: 1.2875 - val_accuracy: 0.5167\n",
      "Epoch 47/50\n",
      "42/42 [==============================] - 23s 541ms/step - loss: 0.7402 - accuracy: 0.7025 - val_loss: 0.8550 - val_accuracy: 0.6750\n",
      "Epoch 48/50\n",
      "42/42 [==============================] - 28s 678ms/step - loss: 0.8307 - accuracy: 0.6917 - val_loss: 0.5983 - val_accuracy: 0.8500\n",
      "Epoch 49/50\n",
      "42/42 [==============================] - 29s 683ms/step - loss: 0.7148 - accuracy: 0.6771 - val_loss: 0.7037 - val_accuracy: 0.6917\n",
      "Epoch 50/50\n",
      "42/42 [==============================] - 23s 554ms/step - loss: 0.7919 - accuracy: 0.6499 - val_loss: 0.7049 - val_accuracy: 0.6500\n"
     ]
    }
   ],
   "source": [
    "for layer in base_model.layers:\n",
    "    layer.trainable = False\n",
    "    \n",
    "model.compile(optimizer='rmsprop', loss='categorical_crossentropy',metrics=[\"accuracy\"])\n",
    "history = model.fit(\n",
    "  train_generator,\n",
    "  validation_data=validation_generator,\n",
    "  steps_per_epoch=train_generator.n//10,\n",
    "  epochs=50,\n",
    "  validation_steps=validation_generator.n//10\n",
    ")"
   ]
  },
  {
   "cell_type": "markdown",
   "metadata": {},
   "source": [
    "### Train (fine-tune bottom 2 layers)"
   ]
  },
  {
   "cell_type": "code",
   "execution_count": 23,
   "metadata": {
    "scrolled": true
   },
   "outputs": [
    {
     "name": "stdout",
     "output_type": "stream",
     "text": [
      "Epoch 1/50\n",
      "42/42 [==============================] - 24s 504ms/step - loss: 2.1944 - accuracy: 0.2887 - val_loss: 1.3474 - val_accuracy: 0.2583\n",
      "Epoch 2/50\n",
      "42/42 [==============================] - 20s 473ms/step - loss: 1.2654 - accuracy: 0.3667 - val_loss: 1.1669 - val_accuracy: 0.5333\n",
      "Epoch 3/50\n",
      "42/42 [==============================] - 19s 461ms/step - loss: 1.1957 - accuracy: 0.4603 - val_loss: 1.2690 - val_accuracy: 0.5750\n",
      "Epoch 4/50\n",
      "42/42 [==============================] - 20s 478ms/step - loss: 1.1884 - accuracy: 0.5399 - val_loss: 1.2831 - val_accuracy: 0.4667\n",
      "Epoch 5/50\n",
      "42/42 [==============================] - 31s 754ms/step - loss: 1.1180 - accuracy: 0.4826 - val_loss: 1.0215 - val_accuracy: 0.5667\n",
      "Epoch 6/50\n",
      "42/42 [==============================] - 33s 779ms/step - loss: 1.1982 - accuracy: 0.4620 - val_loss: 1.0122 - val_accuracy: 0.6000\n",
      "Epoch 7/50\n",
      "42/42 [==============================] - 36s 855ms/step - loss: 1.1417 - accuracy: 0.5107 - val_loss: 1.2024 - val_accuracy: 0.4167\n",
      "Epoch 8/50\n",
      "42/42 [==============================] - 37s 872ms/step - loss: 0.9569 - accuracy: 0.5918 - val_loss: 1.1250 - val_accuracy: 0.4250\n",
      "Epoch 9/50\n",
      "42/42 [==============================] - 38s 911ms/step - loss: 1.1164 - accuracy: 0.5037 - val_loss: 1.0027 - val_accuracy: 0.5083\n",
      "Epoch 10/50\n",
      "42/42 [==============================] - 38s 894ms/step - loss: 1.0477 - accuracy: 0.5282 - val_loss: 0.8834 - val_accuracy: 0.6250\n",
      "Epoch 11/50\n",
      "42/42 [==============================] - 36s 865ms/step - loss: 0.9503 - accuracy: 0.6187 - val_loss: 0.9475 - val_accuracy: 0.5917\n",
      "Epoch 12/50\n",
      "42/42 [==============================] - 36s 848ms/step - loss: 0.8895 - accuracy: 0.6307 - val_loss: 0.8182 - val_accuracy: 0.6833\n",
      "Epoch 13/50\n",
      "42/42 [==============================] - 35s 832ms/step - loss: 0.8574 - accuracy: 0.6570 - val_loss: 0.9160 - val_accuracy: 0.6917\n",
      "Epoch 14/50\n",
      "42/42 [==============================] - 35s 847ms/step - loss: 0.8821 - accuracy: 0.5819 - val_loss: 0.7768 - val_accuracy: 0.6667\n",
      "Epoch 15/50\n",
      "42/42 [==============================] - 36s 850ms/step - loss: 0.8189 - accuracy: 0.6714 - val_loss: 0.7749 - val_accuracy: 0.7417\n",
      "Epoch 16/50\n",
      "42/42 [==============================] - 35s 840ms/step - loss: 0.8904 - accuracy: 0.6467 - val_loss: 0.7991 - val_accuracy: 0.7167\n",
      "Epoch 17/50\n",
      "42/42 [==============================] - 35s 831ms/step - loss: 0.8008 - accuracy: 0.6890 - val_loss: 0.8285 - val_accuracy: 0.6083\n",
      "Epoch 18/50\n",
      "42/42 [==============================] - 35s 843ms/step - loss: 0.9673 - accuracy: 0.6126 - val_loss: 0.7318 - val_accuracy: 0.7167\n",
      "Epoch 19/50\n",
      "42/42 [==============================] - 36s 851ms/step - loss: 0.8999 - accuracy: 0.6001 - val_loss: 0.8867 - val_accuracy: 0.5917\n",
      "Epoch 20/50\n",
      "42/42 [==============================] - 35s 839ms/step - loss: 0.8228 - accuracy: 0.6816 - val_loss: 0.8686 - val_accuracy: 0.6417\n",
      "Epoch 21/50\n",
      "42/42 [==============================] - 35s 835ms/step - loss: 0.7997 - accuracy: 0.6797 - val_loss: 0.7582 - val_accuracy: 0.6917\n",
      "Epoch 22/50\n",
      "42/42 [==============================] - 35s 831ms/step - loss: 0.7654 - accuracy: 0.6975 - val_loss: 1.1317 - val_accuracy: 0.5167\n",
      "Epoch 23/50\n",
      "42/42 [==============================] - 35s 835ms/step - loss: 0.7817 - accuracy: 0.6870 - val_loss: 0.7635 - val_accuracy: 0.6417\n",
      "Epoch 24/50\n",
      "42/42 [==============================] - 35s 834ms/step - loss: 0.8247 - accuracy: 0.7030 - val_loss: 0.6845 - val_accuracy: 0.7250\n",
      "Epoch 25/50\n",
      "42/42 [==============================] - 34s 820ms/step - loss: 0.7162 - accuracy: 0.6992 - val_loss: 1.0882 - val_accuracy: 0.5583\n",
      "Epoch 26/50\n",
      "42/42 [==============================] - 36s 862ms/step - loss: 0.8386 - accuracy: 0.6408 - val_loss: 1.1300 - val_accuracy: 0.5000\n",
      "Epoch 27/50\n",
      "42/42 [==============================] - 34s 815ms/step - loss: 0.9148 - accuracy: 0.5902 - val_loss: 0.6332 - val_accuracy: 0.7583\n",
      "Epoch 28/50\n",
      "42/42 [==============================] - 36s 855ms/step - loss: 0.7144 - accuracy: 0.7016 - val_loss: 0.5945 - val_accuracy: 0.8000\n",
      "Epoch 29/50\n",
      "42/42 [==============================] - 35s 832ms/step - loss: 0.7741 - accuracy: 0.6962 - val_loss: 0.6819 - val_accuracy: 0.6917\n",
      "Epoch 30/50\n",
      "42/42 [==============================] - 37s 887ms/step - loss: 0.7285 - accuracy: 0.7168 - val_loss: 0.6605 - val_accuracy: 0.7833\n",
      "Epoch 31/50\n",
      "42/42 [==============================] - 37s 878ms/step - loss: 0.7404 - accuracy: 0.7163 - val_loss: 0.5488 - val_accuracy: 0.7917\n",
      "Epoch 32/50\n",
      "42/42 [==============================] - 41s 966ms/step - loss: 0.6342 - accuracy: 0.7566 - val_loss: 0.6236 - val_accuracy: 0.7917\n",
      "Epoch 33/50\n",
      "42/42 [==============================] - 37s 887ms/step - loss: 0.6446 - accuracy: 0.7520 - val_loss: 0.7233 - val_accuracy: 0.6750\n",
      "Epoch 34/50\n",
      "42/42 [==============================] - 39s 932ms/step - loss: 0.7149 - accuracy: 0.7218 - val_loss: 0.5360 - val_accuracy: 0.8250\n",
      "Epoch 35/50\n",
      "42/42 [==============================] - 44s 1s/step - loss: 0.6428 - accuracy: 0.7611 - val_loss: 0.6833 - val_accuracy: 0.6833\n",
      "Epoch 36/50\n",
      "42/42 [==============================] - 39s 924ms/step - loss: 0.7361 - accuracy: 0.7558 - val_loss: 0.5266 - val_accuracy: 0.7667\n",
      "Epoch 37/50\n",
      "42/42 [==============================] - 40s 961ms/step - loss: 0.5957 - accuracy: 0.7753 - val_loss: 0.5679 - val_accuracy: 0.7500\n",
      "Epoch 38/50\n",
      "42/42 [==============================] - 40s 954ms/step - loss: 0.7167 - accuracy: 0.7370 - val_loss: 0.5630 - val_accuracy: 0.8167\n",
      "Epoch 39/50\n",
      "42/42 [==============================] - 35s 835ms/step - loss: 0.7717 - accuracy: 0.7087 - val_loss: 0.5468 - val_accuracy: 0.8083\n",
      "Epoch 40/50\n",
      "42/42 [==============================] - 36s 865ms/step - loss: 0.6338 - accuracy: 0.7493 - val_loss: 0.5186 - val_accuracy: 0.7667\n",
      "Epoch 41/50\n",
      "42/42 [==============================] - 35s 835ms/step - loss: 0.7448 - accuracy: 0.7100 - val_loss: 0.7664 - val_accuracy: 0.7000\n",
      "Epoch 42/50\n",
      "42/42 [==============================] - 36s 857ms/step - loss: 0.6425 - accuracy: 0.7436 - val_loss: 0.6469 - val_accuracy: 0.7583\n",
      "Epoch 43/50\n",
      "42/42 [==============================] - 37s 891ms/step - loss: 0.5653 - accuracy: 0.7807 - val_loss: 0.8938 - val_accuracy: 0.6417\n",
      "Epoch 44/50\n",
      "42/42 [==============================] - 36s 847ms/step - loss: 0.5946 - accuracy: 0.7819 - val_loss: 0.4302 - val_accuracy: 0.8583\n",
      "Epoch 45/50\n",
      "42/42 [==============================] - 35s 825ms/step - loss: 0.6363 - accuracy: 0.7485 - val_loss: 0.5165 - val_accuracy: 0.7833\n",
      "Epoch 46/50\n",
      "42/42 [==============================] - 36s 856ms/step - loss: 0.5172 - accuracy: 0.8058 - val_loss: 0.7370 - val_accuracy: 0.7000\n",
      "Epoch 47/50\n",
      "42/42 [==============================] - 35s 845ms/step - loss: 0.5532 - accuracy: 0.7744 - val_loss: 0.5061 - val_accuracy: 0.7917\n",
      "Epoch 48/50\n",
      "42/42 [==============================] - 38s 904ms/step - loss: 0.5847 - accuracy: 0.7853 - val_loss: 0.4634 - val_accuracy: 0.8083\n",
      "Epoch 49/50\n",
      "42/42 [==============================] - 36s 843ms/step - loss: 0.5317 - accuracy: 0.8128 - val_loss: 0.4500 - val_accuracy: 0.8000\n",
      "Epoch 50/50\n",
      "42/42 [==============================] - 36s 852ms/step - loss: 0.5840 - accuracy: 0.7410 - val_loss: 0.4156 - val_accuracy: 0.8417\n"
     ]
    }
   ],
   "source": [
    "# for layer in model.layers[:168]:\n",
    "#     layer.trainable = False\n",
    "# for layer in model.layers[168:]:\n",
    "#     layer.trainable = True\n",
    "\n",
    "base_model.trainable = True\n",
    "set_trainable = False\n",
    "for layer in base_model.layers:\n",
    "    if layer.name in ['res5c_branch2b', 'res5c_branch2c', 'activation_97']:\n",
    "        set_trainable = True\n",
    "    if set_trainable:\n",
    "        layer.trainable = True\n",
    "    else:\n",
    "        layer.trainable = False\n",
    "\n",
    "#SGD(lr=0.0001, momentum=0.9)\n",
    "model.compile(optimizer=Adam(), loss='categorical_crossentropy',metrics=[\"accuracy\"])\n",
    "history = model.fit(\n",
    "  train_generator,\n",
    "  validation_data=validation_generator,\n",
    "  steps_per_epoch=train_generator.n//10,\n",
    "  epochs=50,\n",
    "  validation_steps=validation_generator.n//10\n",
    ")"
   ]
  },
  {
   "cell_type": "markdown",
   "metadata": {},
   "source": [
    "### Evaluate model & Visualize performance"
   ]
  },
  {
   "cell_type": "code",
   "execution_count": 24,
   "metadata": {},
   "outputs": [
    {
     "name": "stdout",
     "output_type": "stream",
     "text": [
      "7/7 [==============================] - 4s 538ms/step - loss: 0.5276 - accuracy: 0.7812\n"
     ]
    },
    {
     "data": {
      "text/plain": [
       "[0.5276222825050354, 0.78125]"
      ]
     },
     "execution_count": 24,
     "metadata": {},
     "output_type": "execute_result"
    }
   ],
   "source": [
    "model.evaluate(test_generator)"
   ]
  },
  {
   "cell_type": "code",
   "execution_count": 25,
   "metadata": {},
   "outputs": [
    {
     "data": {
      "image/png": "[encoded data removed]",
      "text/plain": [
       "<Figure size 432x288 with 1 Axes>"
      ]
     },
     "metadata": {
      "needs_background": "light"
     },
     "output_type": "display_data"
    }
   ],
   "source": [
    "acc = history.history['accuracy']\n",
    "val_acc = history.history['val_accuracy']\n",
    "loss = history.history['loss']\n",
    "val_loss = history.history['val_loss']\n",
    "\n",
    "epochs = range(len(acc))\n",
    "\n",
    "plt.plot(epochs, acc, 'r', label='Training accuracy')\n",
    "plt.plot(epochs, val_acc, 'b', label='Validation accuracy')\n",
    "plt.title('Training and validation accuracy')\n",
    "plt.legend(loc=0)\n",
    "fig = plt.gcf()\n",
    "fig.savefig('from_ResNet50.png',dpi=fig.dpi)\n",
    "plt.show()\n",
    "\n"
   ]
  },
  {
   "cell_type": "markdown",
   "metadata": {},
   "source": [
    "### Save model"
   ]
  },
  {
   "cell_type": "code",
   "execution_count": 26,
   "metadata": {},
   "outputs": [],
   "source": [
    "model.save('from_ResNet50.h5')\n",
    "model.save_weights('from_ResNet50_weights.h5')"
   ]
  }
 ],
 "metadata": {
  "kernelspec": {
   "display_name": "Python 3",
   "language": "python",
   "name": "python3"
  },
  "language_info": {
   "codemirror_mode": {
    "name": "ipython",
    "version": 3
   },
   "file_extension": ".py",
   "mimetype": "text/x-python",
   "name": "python",
   "nbconvert_exporter": "python",
   "pygments_lexer": "ipython3",
   "version": "3.6.12"
  }
 },
 "nbformat": 4,
 "nbformat_minor": 4
}
