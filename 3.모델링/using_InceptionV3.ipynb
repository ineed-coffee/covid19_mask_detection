{
 "cells": [
  {
   "cell_type": "code",
   "execution_count": 9,
   "metadata": {},
   "outputs": [],
   "source": [
    "from keras.models import Model\n",
    "from keras.layers import GlobalAveragePooling2D , Dropout , Dense\n",
    "from keras.applications.inception_v3 import InceptionV3 , preprocess_input\n",
    "from keras.preprocessing.image import ImageDataGenerator\n",
    "from tensorflow.keras.optimizers import SGD\n",
    "from keras.models import load_model\n",
    "import matplotlib.pyplot as plt"
   ]
  },
  {
   "cell_type": "markdown",
   "metadata": {},
   "source": [
    "### Compile model"
   ]
  },
  {
   "cell_type": "code",
   "execution_count": 2,
   "metadata": {},
   "outputs": [],
   "source": [
    "CLASSES = 4"
   ]
  },
  {
   "cell_type": "code",
   "execution_count": 3,
   "metadata": {},
   "outputs": [],
   "source": [
    "base_model = InceptionV3(input_shape=(90, 120, 3),weights='imagenet', include_top=False)\n",
    "x = base_model.output\n",
    "x = GlobalAveragePooling2D(name='avg_pool')(x)\n",
    "x = Dense(1024, activation='relu')(x)\n",
    "x = Dropout(0.4)(x)\n",
    "predictions = Dense(CLASSES, activation='softmax')(x)\n",
    "model = Model(inputs=base_model.input, outputs=predictions)"
   ]
  },
  {
   "cell_type": "markdown",
   "metadata": {},
   "source": [
    "### Load Images"
   ]
  },
  {
   "cell_type": "code",
   "execution_count": 4,
   "metadata": {},
   "outputs": [],
   "source": [
    "path = \"D:/test/dataset/\""
   ]
  },
  {
   "cell_type": "code",
   "execution_count": 5,
   "metadata": {},
   "outputs": [],
   "source": [
    "train_datagen = ImageDataGenerator(rescale=1./255,\n",
    "                                   rotation_range=15,\n",
    "                                   width_shift_range=0.1,\n",
    "                                   height_shift_range=0.1,\n",
    "                                   shear_range=0.5,\n",
    "                                   zoom_range=[0.8, 2.0],\n",
    "                                   horizontal_flip=True,\n",
    "                                   vertical_flip=True,\n",
    "                                   fill_mode='nearest')\n",
    "\n",
    "validate_datagen = ImageDataGenerator(rescale=1./255.)\n",
    "test_datagen = ImageDataGenerator(rescale=1./255.)"
   ]
  },
  {
   "cell_type": "code",
   "execution_count": 6,
   "metadata": {},
   "outputs": [
    {
     "name": "stdout",
     "output_type": "stream",
     "text": [
      "Found 424 images belonging to 4 classes.\n",
      "Found 124 images belonging to 4 classes.\n",
      "Found 64 images belonging to 4 classes.\n"
     ]
    }
   ],
   "source": [
    "train_generator = train_datagen.flow_from_directory(path+'train/',\n",
    "                                                  batch_size=10,\n",
    "                                                    target_size=(90,120),\n",
    "                                                  class_mode='categorical')\n",
    "\n",
    "validation_generator = validate_datagen.flow_from_directory(path+'val/',\n",
    "                                                      batch_size=10,\n",
    "                                                        target_size=(90,120),\n",
    "                                                      class_mode='categorical')\n",
    "\n",
    "test_generator = test_datagen.flow_from_directory(path+'test/',\n",
    "                                                      batch_size=10,\n",
    "                                                        target_size=(90,120),\n",
    "                                                      class_mode='categorical')"
   ]
  },
  {
   "cell_type": "markdown",
   "metadata": {},
   "source": [
    "### Train model (only the top layers)"
   ]
  },
  {
   "cell_type": "code",
   "execution_count": 7,
   "metadata": {
    "scrolled": true
   },
   "outputs": [
    {
     "name": "stdout",
     "output_type": "stream",
     "text": [
      "Epoch 1/50\n",
      "42/42 [==============================] - 14s 235ms/step - loss: 5.6775 - accuracy: 0.4798 - val_loss: 0.5553 - val_accuracy: 0.7500\n",
      "Epoch 2/50\n",
      "42/42 [==============================] - 8s 197ms/step - loss: 1.0089 - accuracy: 0.7639 - val_loss: 1.0240 - val_accuracy: 0.6750\n",
      "Epoch 3/50\n",
      "42/42 [==============================] - 9s 210ms/step - loss: 1.0476 - accuracy: 0.7848 - val_loss: 0.7318 - val_accuracy: 0.8000\n",
      "Epoch 4/50\n",
      "42/42 [==============================] - 8s 200ms/step - loss: 0.9433 - accuracy: 0.7747 - val_loss: 0.3553 - val_accuracy: 0.8583\n",
      "Epoch 5/50\n",
      "42/42 [==============================] - 9s 204ms/step - loss: 0.9810 - accuracy: 0.8330 - val_loss: 0.3983 - val_accuracy: 0.8333\n",
      "Epoch 6/50\n",
      "42/42 [==============================] - 9s 212ms/step - loss: 0.7448 - accuracy: 0.8137 - val_loss: 0.3270 - val_accuracy: 0.8667\n",
      "Epoch 7/50\n",
      "42/42 [==============================] - 8s 188ms/step - loss: 0.9373 - accuracy: 0.8098 - val_loss: 0.5695 - val_accuracy: 0.8417\n",
      "Epoch 8/50\n",
      "42/42 [==============================] - 8s 188ms/step - loss: 0.7775 - accuracy: 0.8473 - val_loss: 0.3300 - val_accuracy: 0.8917\n",
      "Epoch 9/50\n",
      "42/42 [==============================] - 8s 187ms/step - loss: 0.5990 - accuracy: 0.8532 - val_loss: 0.3777 - val_accuracy: 0.8583\n",
      "Epoch 10/50\n",
      "42/42 [==============================] - 9s 206ms/step - loss: 0.9076 - accuracy: 0.8375 - val_loss: 0.7091 - val_accuracy: 0.8333\n",
      "Epoch 11/50\n",
      "42/42 [==============================] - 9s 205ms/step - loss: 0.5723 - accuracy: 0.8725 - val_loss: 0.6845 - val_accuracy: 0.8417\n",
      "Epoch 12/50\n",
      "42/42 [==============================] - 8s 200ms/step - loss: 0.8835 - accuracy: 0.8202 - val_loss: 1.0324 - val_accuracy: 0.8250\n",
      "Epoch 13/50\n",
      "42/42 [==============================] - 9s 204ms/step - loss: 0.6383 - accuracy: 0.8760 - val_loss: 0.5810 - val_accuracy: 0.7583\n",
      "Epoch 14/50\n",
      "42/42 [==============================] - 9s 205ms/step - loss: 0.5008 - accuracy: 0.8596 - val_loss: 0.4561 - val_accuracy: 0.8667\n",
      "Epoch 15/50\n",
      "42/42 [==============================] - 8s 200ms/step - loss: 0.5446 - accuracy: 0.8832 - val_loss: 0.2909 - val_accuracy: 0.8833\n",
      "Epoch 16/50\n",
      "42/42 [==============================] - 8s 202ms/step - loss: 0.5788 - accuracy: 0.8831 - val_loss: 0.6353 - val_accuracy: 0.8250\n",
      "Epoch 17/50\n",
      "42/42 [==============================] - 9s 207ms/step - loss: 1.0288 - accuracy: 0.8147 - val_loss: 0.3695 - val_accuracy: 0.8667\n",
      "Epoch 18/50\n",
      "42/42 [==============================] - 9s 213ms/step - loss: 0.7900 - accuracy: 0.8346 - val_loss: 0.3323 - val_accuracy: 0.8750\n",
      "Epoch 19/50\n",
      "42/42 [==============================] - 9s 203ms/step - loss: 0.8709 - accuracy: 0.8095 - val_loss: 0.3269 - val_accuracy: 0.8750\n",
      "Epoch 20/50\n",
      "42/42 [==============================] - 9s 208ms/step - loss: 0.8868 - accuracy: 0.8175 - val_loss: 0.4619 - val_accuracy: 0.8917\n",
      "Epoch 21/50\n",
      "42/42 [==============================] - 9s 212ms/step - loss: 0.5901 - accuracy: 0.8672 - val_loss: 0.4822 - val_accuracy: 0.8667\n",
      "Epoch 22/50\n",
      "42/42 [==============================] - 9s 205ms/step - loss: 0.8234 - accuracy: 0.8414 - val_loss: 0.5404 - val_accuracy: 0.8833\n",
      "Epoch 23/50\n",
      "42/42 [==============================] - 9s 206ms/step - loss: 0.5657 - accuracy: 0.8734 - val_loss: 1.1172 - val_accuracy: 0.8500\n",
      "Epoch 24/50\n",
      "42/42 [==============================] - 8s 202ms/step - loss: 0.5989 - accuracy: 0.8988 - val_loss: 0.4562 - val_accuracy: 0.8500\n",
      "Epoch 25/50\n",
      "42/42 [==============================] - 9s 210ms/step - loss: 0.7435 - accuracy: 0.9076 - val_loss: 0.6833 - val_accuracy: 0.8167\n",
      "Epoch 26/50\n",
      "42/42 [==============================] - 9s 207ms/step - loss: 0.6550 - accuracy: 0.8684 - val_loss: 0.6112 - val_accuracy: 0.8667\n",
      "Epoch 27/50\n",
      "42/42 [==============================] - 9s 212ms/step - loss: 0.6992 - accuracy: 0.8555 - val_loss: 0.3932 - val_accuracy: 0.8417\n",
      "Epoch 28/50\n",
      "42/42 [==============================] - 8s 202ms/step - loss: 0.6337 - accuracy: 0.8891 - val_loss: 0.5357 - val_accuracy: 0.8667\n",
      "Epoch 29/50\n",
      "42/42 [==============================] - 8s 201ms/step - loss: 0.8563 - accuracy: 0.8374 - val_loss: 0.3682 - val_accuracy: 0.8417\n",
      "Epoch 30/50\n",
      "42/42 [==============================] - 8s 200ms/step - loss: 0.9429 - accuracy: 0.8368 - val_loss: 0.4143 - val_accuracy: 0.8583\n",
      "Epoch 31/50\n",
      "42/42 [==============================] - 9s 221ms/step - loss: 0.6108 - accuracy: 0.8758 - val_loss: 0.8281 - val_accuracy: 0.8333\n",
      "Epoch 32/50\n",
      "42/42 [==============================] - 9s 221ms/step - loss: 0.4933 - accuracy: 0.8968 - val_loss: 0.4611 - val_accuracy: 0.8333\n",
      "Epoch 33/50\n",
      "42/42 [==============================] - 9s 209ms/step - loss: 0.4063 - accuracy: 0.9088 - val_loss: 0.3287 - val_accuracy: 0.8833\n",
      "Epoch 34/50\n",
      "42/42 [==============================] - 9s 212ms/step - loss: 0.4848 - accuracy: 0.9046 - val_loss: 0.3509 - val_accuracy: 0.8750\n",
      "Epoch 35/50\n",
      "42/42 [==============================] - 8s 200ms/step - loss: 0.4866 - accuracy: 0.8750 - val_loss: 0.2551 - val_accuracy: 0.9250\n",
      "Epoch 36/50\n",
      "42/42 [==============================] - 8s 192ms/step - loss: 0.7257 - accuracy: 0.8483 - val_loss: 0.3457 - val_accuracy: 0.9000\n",
      "Epoch 37/50\n",
      "42/42 [==============================] - 8s 193ms/step - loss: 0.2689 - accuracy: 0.9302 - val_loss: 0.4121 - val_accuracy: 0.8750\n",
      "Epoch 38/50\n",
      "42/42 [==============================] - 8s 199ms/step - loss: 0.5974 - accuracy: 0.9056 - val_loss: 0.2459 - val_accuracy: 0.9083\n",
      "Epoch 39/50\n",
      "42/42 [==============================] - 9s 218ms/step - loss: 0.5440 - accuracy: 0.8969 - val_loss: 0.7696 - val_accuracy: 0.8417\n",
      "Epoch 40/50\n",
      "42/42 [==============================] - 9s 206ms/step - loss: 0.8105 - accuracy: 0.8811 - val_loss: 0.4636 - val_accuracy: 0.8500\n",
      "Epoch 41/50\n",
      "42/42 [==============================] - 9s 202ms/step - loss: 0.5309 - accuracy: 0.8830 - val_loss: 0.5075 - val_accuracy: 0.8500\n",
      "Epoch 42/50\n",
      "42/42 [==============================] - 8s 195ms/step - loss: 0.5006 - accuracy: 0.9088 - val_loss: 0.2965 - val_accuracy: 0.8667\n",
      "Epoch 43/50\n",
      "42/42 [==============================] - 9s 205ms/step - loss: 0.6743 - accuracy: 0.8609 - val_loss: 0.7003 - val_accuracy: 0.8417\n",
      "Epoch 44/50\n",
      "42/42 [==============================] - 8s 188ms/step - loss: 0.3976 - accuracy: 0.9080 - val_loss: 0.6256 - val_accuracy: 0.8500\n",
      "Epoch 45/50\n",
      "42/42 [==============================] - 8s 195ms/step - loss: 0.3302 - accuracy: 0.9067 - val_loss: 0.6093 - val_accuracy: 0.8917\n",
      "Epoch 46/50\n",
      "42/42 [==============================] - 8s 186ms/step - loss: 0.6581 - accuracy: 0.8815 - val_loss: 0.3008 - val_accuracy: 0.8917\n",
      "Epoch 47/50\n",
      "42/42 [==============================] - 8s 184ms/step - loss: 0.5081 - accuracy: 0.9050 - val_loss: 0.3202 - val_accuracy: 0.8833\n",
      "Epoch 48/50\n",
      "42/42 [==============================] - 9s 209ms/step - loss: 0.6755 - accuracy: 0.8615 - val_loss: 0.3352 - val_accuracy: 0.8917\n",
      "Epoch 49/50\n",
      "42/42 [==============================] - 8s 192ms/step - loss: 0.4901 - accuracy: 0.9046 - val_loss: 0.3659 - val_accuracy: 0.9083\n",
      "Epoch 50/50\n",
      "42/42 [==============================] - 8s 194ms/step - loss: 0.5963 - accuracy: 0.8774 - val_loss: 0.3947 - val_accuracy: 0.8917\n"
     ]
    }
   ],
   "source": [
    "for layer in base_model.layers:\n",
    "    layer.trainable = False\n",
    "\n",
    "model.compile(optimizer='rmsprop', loss='categorical_crossentropy',metrics=[\"accuracy\"])\n",
    "history = model.fit(\n",
    "  train_generator,\n",
    "  validation_data=validation_generator,\n",
    "  steps_per_epoch=train_generator.n//10,\n",
    "  epochs=50,\n",
    "  validation_steps=validation_generator.n//10\n",
    ")"
   ]
  },
  {
   "cell_type": "markdown",
   "metadata": {},
   "source": [
    "### Train (fine-tune bottom 2 layers)"
   ]
  },
  {
   "cell_type": "code",
   "execution_count": 10,
   "metadata": {},
   "outputs": [
    {
     "name": "stdout",
     "output_type": "stream",
     "text": [
      "Epoch 1/30\n",
      "42/42 [==============================] - 23s 424ms/step - loss: 1.1039 - accuracy: 0.6562 - val_loss: 0.2964 - val_accuracy: 0.8833\n",
      "Epoch 2/30\n",
      "42/42 [==============================] - 17s 406ms/step - loss: 0.6282 - accuracy: 0.8005 - val_loss: 0.3651 - val_accuracy: 0.8750\n",
      "Epoch 3/30\n",
      "42/42 [==============================] - 17s 406ms/step - loss: 0.6939 - accuracy: 0.8068 - val_loss: 0.3260 - val_accuracy: 0.8667\n",
      "Epoch 4/30\n",
      "42/42 [==============================] - 16s 380ms/step - loss: 0.5984 - accuracy: 0.8240 - val_loss: 0.2924 - val_accuracy: 0.8500\n",
      "Epoch 5/30\n",
      "42/42 [==============================] - 16s 382ms/step - loss: 0.4222 - accuracy: 0.8424 - val_loss: 0.2981 - val_accuracy: 0.8667\n",
      "Epoch 6/30\n",
      "42/42 [==============================] - 16s 382ms/step - loss: 0.4936 - accuracy: 0.8462 - val_loss: 0.2531 - val_accuracy: 0.9000\n",
      "Epoch 7/30\n",
      "42/42 [==============================] - 16s 382ms/step - loss: 0.3569 - accuracy: 0.8493 - val_loss: 0.2745 - val_accuracy: 0.8833\n",
      "Epoch 8/30\n",
      "42/42 [==============================] - 16s 377ms/step - loss: 0.4291 - accuracy: 0.8530 - val_loss: 0.2837 - val_accuracy: 0.8833\n",
      "Epoch 9/30\n",
      "42/42 [==============================] - 16s 376ms/step - loss: 0.4944 - accuracy: 0.8346 - val_loss: 0.2961 - val_accuracy: 0.8750\n",
      "Epoch 10/30\n",
      "42/42 [==============================] - 16s 386ms/step - loss: 0.4698 - accuracy: 0.8346 - val_loss: 0.2708 - val_accuracy: 0.8750\n",
      "Epoch 11/30\n",
      "42/42 [==============================] - 17s 414ms/step - loss: 0.4334 - accuracy: 0.8533 - val_loss: 0.2724 - val_accuracy: 0.8917\n",
      "Epoch 12/30\n",
      "42/42 [==============================] - 17s 417ms/step - loss: 0.3270 - accuracy: 0.8604 - val_loss: 0.3104 - val_accuracy: 0.8667\n",
      "Epoch 13/30\n",
      "42/42 [==============================] - 16s 391ms/step - loss: 0.4591 - accuracy: 0.8565 - val_loss: 0.2670 - val_accuracy: 0.8750\n",
      "Epoch 14/30\n",
      "42/42 [==============================] - 16s 391ms/step - loss: 0.3074 - accuracy: 0.8604 - val_loss: 0.3339 - val_accuracy: 0.8667\n",
      "Epoch 15/30\n",
      "42/42 [==============================] - 16s 385ms/step - loss: 0.3455 - accuracy: 0.8718 - val_loss: 0.3110 - val_accuracy: 0.8583\n",
      "Epoch 16/30\n",
      "42/42 [==============================] - 16s 388ms/step - loss: 0.4156 - accuracy: 0.8544 - val_loss: 0.2925 - val_accuracy: 0.8583\n",
      "Epoch 17/30\n",
      "42/42 [==============================] - 16s 392ms/step - loss: 0.4438 - accuracy: 0.8474 - val_loss: 0.2500 - val_accuracy: 0.8917\n",
      "Epoch 18/30\n",
      "42/42 [==============================] - 16s 382ms/step - loss: 0.3152 - accuracy: 0.8824 - val_loss: 0.2353 - val_accuracy: 0.9000\n",
      "Epoch 19/30\n",
      "42/42 [==============================] - 16s 382ms/step - loss: 0.3920 - accuracy: 0.8814 - val_loss: 0.2387 - val_accuracy: 0.8750\n",
      "Epoch 20/30\n",
      "42/42 [==============================] - 16s 385ms/step - loss: 0.3776 - accuracy: 0.8565 - val_loss: 0.2249 - val_accuracy: 0.9083\n",
      "Epoch 21/30\n",
      "42/42 [==============================] - 16s 388ms/step - loss: 0.3233 - accuracy: 0.8959 - val_loss: 0.2245 - val_accuracy: 0.8917\n",
      "Epoch 22/30\n",
      "42/42 [==============================] - 16s 386ms/step - loss: 0.2639 - accuracy: 0.9206 - val_loss: 0.2270 - val_accuracy: 0.9083\n",
      "Epoch 23/30\n",
      "42/42 [==============================] - 16s 384ms/step - loss: 0.3250 - accuracy: 0.8646 - val_loss: 0.2338 - val_accuracy: 0.8750\n",
      "Epoch 24/30\n",
      "42/42 [==============================] - 16s 381ms/step - loss: 0.2488 - accuracy: 0.9078 - val_loss: 0.2024 - val_accuracy: 0.9083\n",
      "Epoch 25/30\n",
      "42/42 [==============================] - 16s 388ms/step - loss: 0.3270 - accuracy: 0.8906 - val_loss: 0.2059 - val_accuracy: 0.9000\n",
      "Epoch 26/30\n",
      "42/42 [==============================] - 16s 382ms/step - loss: 0.2961 - accuracy: 0.8776 - val_loss: 0.1955 - val_accuracy: 0.9333\n",
      "Epoch 27/30\n",
      "42/42 [==============================] - 16s 379ms/step - loss: 0.3181 - accuracy: 0.9004 - val_loss: 0.2006 - val_accuracy: 0.9083\n",
      "Epoch 28/30\n",
      "42/42 [==============================] - 16s 384ms/step - loss: 0.2215 - accuracy: 0.9200 - val_loss: 0.1867 - val_accuracy: 0.9000\n",
      "Epoch 29/30\n",
      "42/42 [==============================] - 16s 384ms/step - loss: 0.3004 - accuracy: 0.8763 - val_loss: 0.1875 - val_accuracy: 0.9250\n",
      "Epoch 30/30\n",
      "42/42 [==============================] - 16s 380ms/step - loss: 0.2320 - accuracy: 0.9045 - val_loss: 0.1904 - val_accuracy: 0.9250\n"
     ]
    }
   ],
   "source": [
    "for layer in model.layers[:249]:\n",
    "    layer.trainable = False\n",
    "for layer in model.layers[249:]:\n",
    "    layer.trainable = True\n",
    "\n",
    "model.compile(optimizer=SGD(lr=0.0001, momentum=0.9), loss='categorical_crossentropy',metrics=[\"accuracy\"])\n",
    "history = model.fit(\n",
    "  train_generator,\n",
    "  validation_data=validation_generator,\n",
    "  steps_per_epoch=train_generator.n//10,\n",
    "  epochs=30,\n",
    "  validation_steps=validation_generator.n//10\n",
    ")"
   ]
  },
  {
   "cell_type": "markdown",
   "metadata": {},
   "source": [
    "### Evaluate model & Visualize performance"
   ]
  },
  {
   "cell_type": "code",
   "execution_count": 11,
   "metadata": {},
   "outputs": [
    {
     "name": "stdout",
     "output_type": "stream",
     "text": [
      "7/7 [==============================] - 1s 125ms/step - loss: 0.4791 - accuracy: 0.8281\n"
     ]
    },
    {
     "data": {
      "text/plain": [
       "[0.479067862033844, 0.828125]"
      ]
     },
     "execution_count": 11,
     "metadata": {},
     "output_type": "execute_result"
    }
   ],
   "source": [
    "model.evaluate(test_generator)"
   ]
  },
  {
   "cell_type": "code",
   "execution_count": 12,
   "metadata": {},
   "outputs": [
    {
     "data": {
      "image/png": "[encoded data removed]",
      "text/plain": [
       "<Figure size 432x288 with 1 Axes>"
      ]
     },
     "metadata": {
      "needs_background": "light"
     },
     "output_type": "display_data"
    }
   ],
   "source": [
    "acc = history.history['accuracy']\n",
    "val_acc = history.history['val_accuracy']\n",
    "loss = history.history['loss']\n",
    "val_loss = history.history['val_loss']\n",
    "\n",
    "epochs = range(len(acc))\n",
    "\n",
    "plt.plot(epochs, acc, 'r', label='Training accuracy')\n",
    "plt.plot(epochs, val_acc, 'b', label='Validation accuracy')\n",
    "plt.title('Training and validation accuracy')\n",
    "plt.legend(loc=0)\n",
    "fig = plt.gcf()\n",
    "fig.savefig('from_Inception.png',dpi=fig.dpi)\n",
    "plt.show()\n",
    "\n"
   ]
  },
  {
   "cell_type": "markdown",
   "metadata": {},
   "source": [
    "### Save model"
   ]
  },
  {
   "cell_type": "code",
   "execution_count": 13,
   "metadata": {},
   "outputs": [],
   "source": [
    "model.save('from_InceptionV3.h5')\n",
    "model.save_weights('from_InceptionV3_weights.h5')"
   ]
  }
 ],
 "metadata": {
  "kernelspec": {
   "display_name": "Python 3",
   "language": "python",
   "name": "python3"
  },
  "language_info": {
   "codemirror_mode": {
    "name": "ipython",
    "version": 3
   },
   "file_extension": ".py",
   "mimetype": "text/x-python",
   "name": "python",
   "nbconvert_exporter": "python",
   "pygments_lexer": "ipython3",
   "version": "3.6.12"
  }
 },
 "nbformat": 4,
 "nbformat_minor": 4
}
