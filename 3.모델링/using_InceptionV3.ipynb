{
 "cells": [
  {
   "cell_type": "code",
   "execution_count": 1,
   "metadata": {},
   "outputs": [],
   "source": [
    "from keras.models import Model\n",
    "from keras.layers import GlobalAveragePooling2D , Dropout , Dense\n",
    "from keras.applications.inception_v3 import InceptionV3 , preprocess_input\n",
    "from keras.preprocessing.image import ImageDataGenerator\n",
    "from tensorflow.keras.optimizers import SGD\n",
    "from keras.models import load_model\n",
    "import matplotlib.pyplot as plt"
   ]
  },
  {
   "cell_type": "markdown",
   "metadata": {},
   "source": [
    "### Compile model"
   ]
  },
  {
   "cell_type": "code",
   "execution_count": 2,
   "metadata": {},
   "outputs": [],
   "source": [
    "CLASSES = 4"
   ]
  },
  {
   "cell_type": "code",
   "execution_count": 3,
   "metadata": {},
   "outputs": [],
   "source": [
    "base_model = InceptionV3(input_shape=(90, 120, 3),weights='imagenet', include_top=False)\n",
    "x = base_model.output\n",
    "x = GlobalAveragePooling2D(name='avg_pool')(x)\n",
    "x = Dense(512, activation='relu')(x)\n",
    "#x = Dropout(0.4)(x)\n",
    "predictions = Dense(CLASSES, activation='softmax')(x)\n",
    "model = Model(inputs=base_model.input, outputs=predictions)"
   ]
  },
  {
   "cell_type": "markdown",
   "metadata": {},
   "source": [
    "### Load Images"
   ]
  },
  {
   "cell_type": "code",
   "execution_count": 15,
   "metadata": {},
   "outputs": [],
   "source": [
    "path = \"D:/test/dataset/\""
   ]
  },
  {
   "cell_type": "code",
   "execution_count": 16,
   "metadata": {},
   "outputs": [],
   "source": [
    "train_datagen = ImageDataGenerator(rescale=1./255,\n",
    "                                   rotation_range=15,\n",
    "                                   width_shift_range=0.1,\n",
    "                                   height_shift_range=0.1,\n",
    "                                   shear_range=0.5,\n",
    "                                   zoom_range=[0.8, 2.0],\n",
    "                                   horizontal_flip=True,\n",
    "                                   vertical_flip=True,\n",
    "                                   fill_mode='nearest')\n",
    "\n",
    "validate_datagen = ImageDataGenerator(rescale=1./255.)\n",
    "test_datagen = ImageDataGenerator(rescale=1./255.)"
   ]
  },
  {
   "cell_type": "code",
   "execution_count": 17,
   "metadata": {},
   "outputs": [
    {
     "name": "stdout",
     "output_type": "stream",
     "text": [
      "Found 424 images belonging to 4 classes.\n",
      "Found 124 images belonging to 4 classes.\n",
      "Found 64 images belonging to 4 classes.\n"
     ]
    }
   ],
   "source": [
    "train_generator = train_datagen.flow_from_directory(path+'train/',\n",
    "                                                  batch_size=10,\n",
    "                                                    target_size=(90,120),\n",
    "                                                  class_mode='categorical')\n",
    "\n",
    "validation_generator = validate_datagen.flow_from_directory(path+'val/',\n",
    "                                                      batch_size=10,\n",
    "                                                        target_size=(90,120),\n",
    "                                                      class_mode='categorical')\n",
    "\n",
    "test_generator = test_datagen.flow_from_directory(path+'test/',\n",
    "                                                      batch_size=10,\n",
    "                                                        target_size=(90,120),\n",
    "                                                      class_mode='categorical')"
   ]
  },
  {
   "cell_type": "markdown",
   "metadata": {},
   "source": [
    "### Train model (only the top layers)"
   ]
  },
  {
   "cell_type": "code",
   "execution_count": 18,
   "metadata": {
    "scrolled": true
   },
   "outputs": [
    {
     "name": "stdout",
     "output_type": "stream",
     "text": [
      "Epoch 1/50\n",
      "42/42 [==============================] - 15s 249ms/step - loss: 4.7226 - accuracy: 0.4775 - val_loss: 1.5071 - val_accuracy: 0.6917\n",
      "Epoch 2/50\n",
      "42/42 [==============================] - 8s 188ms/step - loss: 0.9402 - accuracy: 0.7830 - val_loss: 1.4897 - val_accuracy: 0.6333\n",
      "Epoch 3/50\n",
      "42/42 [==============================] - 7s 173ms/step - loss: 0.8527 - accuracy: 0.7704 - val_loss: 0.7420 - val_accuracy: 0.8000\n",
      "Epoch 4/50\n",
      "42/42 [==============================] - 8s 198ms/step - loss: 0.6133 - accuracy: 0.8733 - val_loss: 0.7645 - val_accuracy: 0.7917\n",
      "Epoch 5/50\n",
      "42/42 [==============================] - 9s 205ms/step - loss: 0.5395 - accuracy: 0.8487 - val_loss: 0.5531 - val_accuracy: 0.8417\n",
      "Epoch 6/50\n",
      "42/42 [==============================] - 9s 210ms/step - loss: 0.4982 - accuracy: 0.8670 - val_loss: 0.5848 - val_accuracy: 0.8083\n",
      "Epoch 7/50\n",
      "42/42 [==============================] - 8s 197ms/step - loss: 0.5113 - accuracy: 0.8523 - val_loss: 0.2874 - val_accuracy: 0.8833\n",
      "Epoch 8/50\n",
      "42/42 [==============================] - 8s 189ms/step - loss: 0.3041 - accuracy: 0.8742 - val_loss: 0.6923 - val_accuracy: 0.8083\n",
      "Epoch 9/50\n",
      "42/42 [==============================] - 8s 187ms/step - loss: 0.5098 - accuracy: 0.8842 - val_loss: 0.4267 - val_accuracy: 0.8417\n",
      "Epoch 10/50\n",
      "42/42 [==============================] - 8s 180ms/step - loss: 0.3162 - accuracy: 0.8969 - val_loss: 0.6539 - val_accuracy: 0.8417\n",
      "Epoch 11/50\n",
      "42/42 [==============================] - 7s 169ms/step - loss: 0.3720 - accuracy: 0.8771 - val_loss: 0.7294 - val_accuracy: 0.8167\n",
      "Epoch 12/50\n",
      "42/42 [==============================] - 8s 184ms/step - loss: 0.3935 - accuracy: 0.8857 - val_loss: 0.4938 - val_accuracy: 0.8500\n",
      "Epoch 13/50\n",
      "42/42 [==============================] - 7s 168ms/step - loss: 0.4227 - accuracy: 0.8931 - val_loss: 0.2488 - val_accuracy: 0.8917\n",
      "Epoch 14/50\n",
      "42/42 [==============================] - 7s 168ms/step - loss: 0.5227 - accuracy: 0.8629 - val_loss: 0.3567 - val_accuracy: 0.8750\n",
      "Epoch 15/50\n",
      "42/42 [==============================] - 7s 167ms/step - loss: 0.3734 - accuracy: 0.8898 - val_loss: 0.2732 - val_accuracy: 0.8750\n",
      "Epoch 16/50\n",
      "42/42 [==============================] - 7s 167ms/step - loss: 0.4355 - accuracy: 0.8825 - val_loss: 0.3642 - val_accuracy: 0.9083\n",
      "Epoch 17/50\n",
      "42/42 [==============================] - 7s 166ms/step - loss: 0.4315 - accuracy: 0.8798 - val_loss: 0.5005 - val_accuracy: 0.8750\n",
      "Epoch 18/50\n",
      "42/42 [==============================] - 7s 167ms/step - loss: 0.2990 - accuracy: 0.8940 - val_loss: 0.3567 - val_accuracy: 0.8833\n",
      "Epoch 19/50\n",
      "42/42 [==============================] - 7s 178ms/step - loss: 0.4325 - accuracy: 0.8651 - val_loss: 0.4782 - val_accuracy: 0.8500\n",
      "Epoch 20/50\n",
      "42/42 [==============================] - 8s 182ms/step - loss: 0.3195 - accuracy: 0.8892 - val_loss: 0.2702 - val_accuracy: 0.9083\n",
      "Epoch 21/50\n",
      "42/42 [==============================] - 7s 174ms/step - loss: 0.2892 - accuracy: 0.9043 - val_loss: 0.2957 - val_accuracy: 0.8250\n",
      "Epoch 22/50\n",
      "42/42 [==============================] - 7s 171ms/step - loss: 0.4124 - accuracy: 0.8897 - val_loss: 0.4531 - val_accuracy: 0.8500\n",
      "Epoch 23/50\n",
      "42/42 [==============================] - 7s 177ms/step - loss: 0.2677 - accuracy: 0.9115 - val_loss: 0.8838 - val_accuracy: 0.8000\n",
      "Epoch 24/50\n",
      "42/42 [==============================] - 8s 179ms/step - loss: 0.4214 - accuracy: 0.8912 - val_loss: 0.3166 - val_accuracy: 0.8667\n",
      "Epoch 25/50\n",
      "42/42 [==============================] - 7s 175ms/step - loss: 0.3064 - accuracy: 0.8906 - val_loss: 0.4275 - val_accuracy: 0.8833\n",
      "Epoch 26/50\n",
      "42/42 [==============================] - 8s 193ms/step - loss: 0.3165 - accuracy: 0.9282 - val_loss: 0.5968 - val_accuracy: 0.8333\n",
      "Epoch 27/50\n",
      "42/42 [==============================] - 8s 183ms/step - loss: 0.2304 - accuracy: 0.9438 - val_loss: 0.3841 - val_accuracy: 0.8917\n",
      "Epoch 28/50\n",
      "42/42 [==============================] - 8s 180ms/step - loss: 0.2740 - accuracy: 0.9213 - val_loss: 0.2404 - val_accuracy: 0.8917\n",
      "Epoch 29/50\n",
      "42/42 [==============================] - 7s 175ms/step - loss: 0.4040 - accuracy: 0.8896 - val_loss: 0.2878 - val_accuracy: 0.8833\n",
      "Epoch 30/50\n",
      "42/42 [==============================] - 7s 169ms/step - loss: 0.2421 - accuracy: 0.9314 - val_loss: 0.3656 - val_accuracy: 0.8833\n",
      "Epoch 31/50\n",
      "42/42 [==============================] - 8s 199ms/step - loss: 0.3660 - accuracy: 0.8861 - val_loss: 0.3733 - val_accuracy: 0.9000cy\n",
      "Epoch 32/50\n",
      "42/42 [==============================] - 7s 173ms/step - loss: 0.3823 - accuracy: 0.9172 - val_loss: 0.3822 - val_accuracy: 0.8833\n",
      "Epoch 33/50\n",
      "42/42 [==============================] - 8s 183ms/step - loss: 0.3644 - accuracy: 0.8799 - val_loss: 0.3223 - val_accuracy: 0.8833\n",
      "Epoch 34/50\n",
      "42/42 [==============================] - 7s 171ms/step - loss: 0.2294 - accuracy: 0.9337 - val_loss: 0.2376 - val_accuracy: 0.9167\n",
      "Epoch 35/50\n",
      "42/42 [==============================] - 8s 192ms/step - loss: 0.3144 - accuracy: 0.8996 - val_loss: 0.3151 - val_accuracy: 0.8833\n",
      "Epoch 36/50\n",
      "42/42 [==============================] - 8s 188ms/step - loss: 0.2151 - accuracy: 0.9261 - val_loss: 0.3584 - val_accuracy: 0.8833\n",
      "Epoch 37/50\n",
      "42/42 [==============================] - 7s 177ms/step - loss: 0.2555 - accuracy: 0.9143 - val_loss: 0.7799 - val_accuracy: 0.8250\n",
      "Epoch 38/50\n",
      "42/42 [==============================] - 7s 166ms/step - loss: 0.3269 - accuracy: 0.9161 - val_loss: 0.3173 - val_accuracy: 0.8750\n",
      "Epoch 39/50\n",
      "42/42 [==============================] - 7s 167ms/step - loss: 0.2570 - accuracy: 0.8979 - val_loss: 0.2723 - val_accuracy: 0.9167\n",
      "Epoch 40/50\n",
      "42/42 [==============================] - 7s 166ms/step - loss: 0.4192 - accuracy: 0.9112 - val_loss: 0.7383 - val_accuracy: 0.7833\n",
      "Epoch 41/50\n",
      "42/42 [==============================] - 7s 174ms/step - loss: 0.3170 - accuracy: 0.9195 - val_loss: 0.4745 - val_accuracy: 0.8667\n",
      "Epoch 42/50\n",
      "42/42 [==============================] - 7s 165ms/step - loss: 0.2306 - accuracy: 0.9416 - val_loss: 0.4341 - val_accuracy: 0.8833\n",
      "Epoch 43/50\n",
      "42/42 [==============================] - 7s 171ms/step - loss: 0.2392 - accuracy: 0.9214 - val_loss: 0.9546 - val_accuracy: 0.8167\n",
      "Epoch 44/50\n",
      "42/42 [==============================] - 8s 184ms/step - loss: 0.2880 - accuracy: 0.9222 - val_loss: 0.3220 - val_accuracy: 0.8917\n",
      "Epoch 45/50\n",
      "42/42 [==============================] - 8s 194ms/step - loss: 0.2064 - accuracy: 0.9374 - val_loss: 0.5683 - val_accuracy: 0.8417\n",
      "Epoch 46/50\n",
      "42/42 [==============================] - 8s 200ms/step - loss: 0.2426 - accuracy: 0.9443 - val_loss: 0.6974 - val_accuracy: 0.8500\n",
      "Epoch 47/50\n",
      "42/42 [==============================] - 9s 207ms/step - loss: 0.3201 - accuracy: 0.9152 - val_loss: 0.2784 - val_accuracy: 0.9250\n",
      "Epoch 48/50\n",
      "42/42 [==============================] - 8s 192ms/step - loss: 0.1955 - accuracy: 0.9412 - val_loss: 0.3136 - val_accuracy: 0.8833\n",
      "Epoch 49/50\n",
      "42/42 [==============================] - 7s 177ms/step - loss: 0.2450 - accuracy: 0.9167 - val_loss: 0.4062 - val_accuracy: 0.8917\n",
      "Epoch 50/50\n",
      "42/42 [==============================] - 7s 172ms/step - loss: 0.1873 - accuracy: 0.9526 - val_loss: 0.5854 - val_accuracy: 0.8000\n"
     ]
    }
   ],
   "source": [
    "for layer in base_model.layers:\n",
    "    layer.trainable = False\n",
    "\n",
    "model.compile(optimizer='rmsprop', loss='categorical_crossentropy',metrics=[\"accuracy\"])\n",
    "history = model.fit(\n",
    "  train_generator,\n",
    "  validation_data=validation_generator,\n",
    "  steps_per_epoch=train_generator.n//10,\n",
    "  epochs=50,\n",
    "  validation_steps=validation_generator.n//10\n",
    ")"
   ]
  },
  {
   "cell_type": "markdown",
   "metadata": {},
   "source": [
    "### Train (fine-tune bottom 2 layers)"
   ]
  },
  {
   "cell_type": "code",
   "execution_count": 19,
   "metadata": {
    "scrolled": true
   },
   "outputs": [
    {
     "name": "stdout",
     "output_type": "stream",
     "text": [
      "Epoch 1/50\n",
      "42/42 [==============================] - 22s 399ms/step - loss: 0.9911 - accuracy: 0.6863 - val_loss: 0.3323 - val_accuracy: 0.9083\n",
      "Epoch 2/50\n",
      "42/42 [==============================] - 15s 363ms/step - loss: 0.6563 - accuracy: 0.7732 - val_loss: 0.3127 - val_accuracy: 0.8917\n",
      "Epoch 3/50\n",
      "42/42 [==============================] - 16s 382ms/step - loss: 0.5880 - accuracy: 0.8013 - val_loss: 0.3311 - val_accuracy: 0.8917\n",
      "Epoch 4/50\n",
      "42/42 [==============================] - 17s 406ms/step - loss: 0.3768 - accuracy: 0.8625 - val_loss: 0.3391 - val_accuracy: 0.8583\n",
      "Epoch 5/50\n",
      "42/42 [==============================] - 16s 388ms/step - loss: 0.5096 - accuracy: 0.8072 - val_loss: 0.3852 - val_accuracy: 0.8417\n",
      "Epoch 6/50\n",
      "42/42 [==============================] - 17s 404ms/step - loss: 0.4672 - accuracy: 0.8233 - val_loss: 0.3868 - val_accuracy: 0.8583\n",
      "Epoch 7/50\n",
      "42/42 [==============================] - 17s 401ms/step - loss: 0.4256 - accuracy: 0.8695 - val_loss: 0.3624 - val_accuracy: 0.9000\n",
      "Epoch 8/50\n",
      "42/42 [==============================] - 18s 418ms/step - loss: 0.3534 - accuracy: 0.8686 - val_loss: 0.3203 - val_accuracy: 0.9000\n",
      "Epoch 9/50\n",
      "42/42 [==============================] - 16s 390ms/step - loss: 0.3961 - accuracy: 0.8437 - val_loss: 0.3447 - val_accuracy: 0.8917\n",
      "Epoch 10/50\n",
      "42/42 [==============================] - 16s 377ms/step - loss: 0.3465 - accuracy: 0.8576 - val_loss: 0.3158 - val_accuracy: 0.8917\n",
      "Epoch 11/50\n",
      "42/42 [==============================] - 16s 380ms/step - loss: 0.3225 - accuracy: 0.8902 - val_loss: 0.3067 - val_accuracy: 0.9167\n",
      "Epoch 12/50\n",
      "42/42 [==============================] - 16s 380ms/step - loss: 0.2883 - accuracy: 0.8878 - val_loss: 0.2909 - val_accuracy: 0.9250\n",
      "Epoch 13/50\n",
      "42/42 [==============================] - 16s 382ms/step - loss: 0.3816 - accuracy: 0.8605 - val_loss: 0.2839 - val_accuracy: 0.9167\n",
      "Epoch 14/50\n",
      "42/42 [==============================] - 16s 378ms/step - loss: 0.3674 - accuracy: 0.8788 - val_loss: 0.2697 - val_accuracy: 0.9083\n",
      "Epoch 15/50\n",
      "42/42 [==============================] - 16s 390ms/step - loss: 0.3725 - accuracy: 0.8728 - val_loss: 0.2742 - val_accuracy: 0.8917\n",
      "Epoch 16/50\n",
      "42/42 [==============================] - 16s 382ms/step - loss: 0.4612 - accuracy: 0.8549 - val_loss: 0.2707 - val_accuracy: 0.9000\n",
      "Epoch 17/50\n",
      "42/42 [==============================] - 17s 396ms/step - loss: 0.2920 - accuracy: 0.8866 - val_loss: 0.2723 - val_accuracy: 0.8917\n",
      "Epoch 18/50\n",
      "42/42 [==============================] - 18s 424ms/step - loss: 0.2494 - accuracy: 0.9035 - val_loss: 0.2525 - val_accuracy: 0.9000\n",
      "Epoch 19/50\n",
      "42/42 [==============================] - 16s 373ms/step - loss: 0.2768 - accuracy: 0.8996 - val_loss: 0.2575 - val_accuracy: 0.9000\n",
      "Epoch 20/50\n",
      "42/42 [==============================] - 18s 440ms/step - loss: 0.3273 - accuracy: 0.8531 - val_loss: 0.2780 - val_accuracy: 0.9000\n",
      "Epoch 21/50\n",
      "42/42 [==============================] - 22s 521ms/step - loss: 0.2009 - accuracy: 0.9036 - val_loss: 0.2866 - val_accuracy: 0.8917\n",
      "Epoch 22/50\n",
      "42/42 [==============================] - 20s 469ms/step - loss: 0.2967 - accuracy: 0.9191 - val_loss: 0.2842 - val_accuracy: 0.8917\n",
      "Epoch 23/50\n",
      "42/42 [==============================] - 17s 408ms/step - loss: 0.3539 - accuracy: 0.9057 - val_loss: 0.2592 - val_accuracy: 0.9167\n",
      "Epoch 24/50\n",
      "42/42 [==============================] - 17s 400ms/step - loss: 0.2825 - accuracy: 0.8919 - val_loss: 0.2758 - val_accuracy: 0.9167\n",
      "Epoch 25/50\n",
      "42/42 [==============================] - 17s 399ms/step - loss: 0.2418 - accuracy: 0.9062 - val_loss: 0.2547 - val_accuracy: 0.9083\n",
      "Epoch 26/50\n",
      "42/42 [==============================] - 17s 406ms/step - loss: 0.2940 - accuracy: 0.8861 - val_loss: 0.2298 - val_accuracy: 0.9167\n",
      "Epoch 27/50\n",
      "42/42 [==============================] - 18s 437ms/step - loss: 0.4013 - accuracy: 0.9074 - val_loss: 0.2386 - val_accuracy: 0.9000\n",
      "Epoch 28/50\n",
      "42/42 [==============================] - 18s 436ms/step - loss: 0.3061 - accuracy: 0.8967 - val_loss: 0.2392 - val_accuracy: 0.9083\n",
      "Epoch 29/50\n",
      "42/42 [==============================] - 17s 413ms/step - loss: 0.2362 - accuracy: 0.9063 - val_loss: 0.3041 - val_accuracy: 0.8667\n",
      "Epoch 30/50\n",
      "42/42 [==============================] - 17s 414ms/step - loss: 0.3103 - accuracy: 0.8920 - val_loss: 0.2360 - val_accuracy: 0.9083\n",
      "Epoch 31/50\n",
      "42/42 [==============================] - 25s 595ms/step - loss: 0.2609 - accuracy: 0.8790 - val_loss: 0.2433 - val_accuracy: 0.9083\n",
      "Epoch 32/50\n",
      "42/42 [==============================] - 28s 657ms/step - loss: 0.2470 - accuracy: 0.9026 - val_loss: 0.2011 - val_accuracy: 0.9083\n",
      "Epoch 33/50\n",
      "42/42 [==============================] - 30s 724ms/step - loss: 0.2234 - accuracy: 0.8984 - val_loss: 0.2582 - val_accuracy: 0.9000\n",
      "Epoch 34/50\n",
      "42/42 [==============================] - 29s 697ms/step - loss: 0.1711 - accuracy: 0.9464 - val_loss: 0.2424 - val_accuracy: 0.8917\n",
      "Epoch 35/50\n",
      "42/42 [==============================] - 29s 690ms/step - loss: 0.1948 - accuracy: 0.9373 - val_loss: 0.2226 - val_accuracy: 0.8917\n",
      "Epoch 36/50\n",
      "42/42 [==============================] - 29s 679ms/step - loss: 0.2510 - accuracy: 0.8947 - val_loss: 0.2594 - val_accuracy: 0.8917\n",
      "Epoch 37/50\n",
      "42/42 [==============================] - 29s 697ms/step - loss: 0.1929 - accuracy: 0.9177 - val_loss: 0.2340 - val_accuracy: 0.9000\n",
      "Epoch 38/50\n",
      "42/42 [==============================] - 29s 696ms/step - loss: 0.2402 - accuracy: 0.8862 - val_loss: 0.2378 - val_accuracy: 0.9083\n",
      "Epoch 39/50\n",
      "42/42 [==============================] - 29s 676ms/step - loss: 0.2604 - accuracy: 0.9270 - val_loss: 0.2363 - val_accuracy: 0.9000\n",
      "Epoch 40/50\n",
      "42/42 [==============================] - 29s 685ms/step - loss: 0.1706 - accuracy: 0.9249 - val_loss: 0.2328 - val_accuracy: 0.9000\n",
      "Epoch 41/50\n",
      "42/42 [==============================] - 30s 709ms/step - loss: 0.2683 - accuracy: 0.8968 - val_loss: 0.2191 - val_accuracy: 0.9083\n",
      "Epoch 42/50\n",
      "42/42 [==============================] - 29s 682ms/step - loss: 0.2307 - accuracy: 0.8974 - val_loss: 0.2219 - val_accuracy: 0.9167\n",
      "Epoch 43/50\n",
      "42/42 [==============================] - 29s 687ms/step - loss: 0.2955 - accuracy: 0.8792 - val_loss: 0.2363 - val_accuracy: 0.9000\n",
      "Epoch 44/50\n",
      "42/42 [==============================] - 29s 682ms/step - loss: 0.2844 - accuracy: 0.9152 - val_loss: 0.2568 - val_accuracy: 0.9083\n",
      "Epoch 45/50\n",
      "42/42 [==============================] - 31s 736ms/step - loss: 0.2219 - accuracy: 0.9036 - val_loss: 0.2687 - val_accuracy: 0.9000\n",
      "Epoch 46/50\n",
      "42/42 [==============================] - 30s 718ms/step - loss: 0.2696 - accuracy: 0.8906 - val_loss: 0.2687 - val_accuracy: 0.8833\n",
      "Epoch 47/50\n",
      "42/42 [==============================] - 30s 704ms/step - loss: 0.2264 - accuracy: 0.9077 - val_loss: 0.2716 - val_accuracy: 0.8917\n",
      "Epoch 48/50\n",
      "42/42 [==============================] - 30s 713ms/step - loss: 0.1468 - accuracy: 0.9296 - val_loss: 0.2678 - val_accuracy: 0.8917\n",
      "Epoch 49/50\n",
      "42/42 [==============================] - 29s 694ms/step - loss: 0.2671 - accuracy: 0.9132 - val_loss: 0.2550 - val_accuracy: 0.8917\n",
      "Epoch 50/50\n",
      "42/42 [==============================] - 29s 686ms/step - loss: 0.2242 - accuracy: 0.9304 - val_loss: 0.2956 - val_accuracy: 0.8917\n"
     ]
    }
   ],
   "source": [
    "for layer in model.layers[:249]:\n",
    "    layer.trainable = False\n",
    "for layer in model.layers[249:]:\n",
    "    layer.trainable = True\n",
    "\n",
    "model.compile(optimizer=SGD(lr=0.0001, momentum=0.9), loss='categorical_crossentropy',metrics=[\"accuracy\"])\n",
    "history = model.fit(\n",
    "  train_generator,\n",
    "  validation_data=validation_generator,\n",
    "  steps_per_epoch=train_generator.n//10,\n",
    "  epochs=50,\n",
    "  validation_steps=validation_generator.n//10\n",
    ")"
   ]
  },
  {
   "cell_type": "markdown",
   "metadata": {},
   "source": [
    "### Evaluate model & Visualize performance"
   ]
  },
  {
   "cell_type": "code",
   "execution_count": 20,
   "metadata": {},
   "outputs": [
    {
     "name": "stdout",
     "output_type": "stream",
     "text": [
      "7/7 [==============================] - 2s 210ms/step - loss: 0.6211 - accuracy: 0.8125\n"
     ]
    },
    {
     "data": {
      "text/plain": [
       "[0.6211097240447998, 0.8125]"
      ]
     },
     "execution_count": 20,
     "metadata": {},
     "output_type": "execute_result"
    }
   ],
   "source": [
    "model.evaluate(test_generator)"
   ]
  },
  {
   "cell_type": "code",
   "execution_count": 21,
   "metadata": {},
   "outputs": [
    {
     "data": {
      "image/png": "[encoded data removed]",
      "text/plain": [
       "<Figure size 432x288 with 1 Axes>"
      ]
     },
     "metadata": {
      "needs_background": "light"
     },
     "output_type": "display_data"
    }
   ],
   "source": [
    "acc = history.history['accuracy']\n",
    "val_acc = history.history['val_accuracy']\n",
    "loss = history.history['loss']\n",
    "val_loss = history.history['val_loss']\n",
    "\n",
    "epochs = range(len(acc))\n",
    "\n",
    "plt.plot(epochs, acc, 'r', label='Training accuracy')\n",
    "plt.plot(epochs, val_acc, 'b', label='Validation accuracy')\n",
    "plt.title('Training and validation accuracy')\n",
    "plt.legend(loc=0)\n",
    "fig = plt.gcf()\n",
    "fig.savefig('from_Inception.png',dpi=fig.dpi)\n",
    "plt.show()\n",
    "\n"
   ]
  },
  {
   "cell_type": "markdown",
   "metadata": {},
   "source": [
    "### Save model"
   ]
  },
  {
   "cell_type": "code",
   "execution_count": 22,
   "metadata": {},
   "outputs": [],
   "source": [
    "model.save('from_InceptionV3.h5')\n",
    "model.save_weights('from_InceptionV3_weights.h5')"
   ]
  }
 ],
 "metadata": {
  "kernelspec": {
   "display_name": "Python 3",
   "language": "python",
   "name": "python3"
  },
  "language_info": {
   "codemirror_mode": {
    "name": "ipython",
    "version": 3
   },
   "file_extension": ".py",
   "mimetype": "text/x-python",
   "name": "python",
   "nbconvert_exporter": "python",
   "pygments_lexer": "ipython3",
   "version": "3.6.12"
  }
 },
 "nbformat": 4,
 "nbformat_minor": 4
}
