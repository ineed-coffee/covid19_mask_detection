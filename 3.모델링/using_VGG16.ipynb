{
 "cells": [
  {
   "cell_type": "code",
   "execution_count": 10,
   "metadata": {},
   "outputs": [],
   "source": [
    "from keras.models import Model\n",
    "from keras.layers import GlobalAveragePooling2D , Dropout , Dense , Flatten\n",
    "from keras.applications.vgg16 import VGG16\n",
    "from keras.preprocessing.image import ImageDataGenerator\n",
    "from tensorflow.keras.optimizers import SGD\n",
    "import matplotlib.pyplot as plt"
   ]
  },
  {
   "cell_type": "markdown",
   "metadata": {},
   "source": [
    "### Compile model"
   ]
  },
  {
   "cell_type": "code",
   "execution_count": 11,
   "metadata": {},
   "outputs": [],
   "source": [
    "CLASSES = 4"
   ]
  },
  {
   "cell_type": "code",
   "execution_count": 12,
   "metadata": {},
   "outputs": [],
   "source": [
    "base_model = VGG16(input_shape=(90, 120, 3),weights='imagenet', include_top=False)\n",
    "x = base_model.output\n",
    "x = Flatten()(x)\n",
    "x = Dense(512, activation='relu')(x)\n",
    "#x = Dropout(0.4)(x)\n",
    "predictions = Dense(CLASSES, activation='softmax')(x)\n",
    "model = Model(inputs=base_model.input, outputs=predictions)"
   ]
  },
  {
   "cell_type": "markdown",
   "metadata": {},
   "source": [
    "### Load Images"
   ]
  },
  {
   "cell_type": "code",
   "execution_count": 13,
   "metadata": {},
   "outputs": [],
   "source": [
    "path = \"D:/test/dataset/\""
   ]
  },
  {
   "cell_type": "code",
   "execution_count": 14,
   "metadata": {},
   "outputs": [],
   "source": [
    "train_datagen = ImageDataGenerator(rescale=1./255,\n",
    "                                   rotation_range=15,\n",
    "                                   width_shift_range=0.1,\n",
    "                                   height_shift_range=0.1,\n",
    "                                   shear_range=0.5,\n",
    "                                   zoom_range=[0.8, 2.0],\n",
    "                                   horizontal_flip=True,\n",
    "                                   vertical_flip=True,\n",
    "                                   fill_mode='nearest')\n",
    "\n",
    "validate_datagen = ImageDataGenerator(rescale=1./255.)\n",
    "test_datagen = ImageDataGenerator(rescale=1./255.)"
   ]
  },
  {
   "cell_type": "code",
   "execution_count": 15,
   "metadata": {},
   "outputs": [
    {
     "name": "stdout",
     "output_type": "stream",
     "text": [
      "Found 424 images belonging to 4 classes.\n",
      "Found 124 images belonging to 4 classes.\n",
      "Found 64 images belonging to 4 classes.\n"
     ]
    }
   ],
   "source": [
    "train_generator = train_datagen.flow_from_directory(path+'train/',\n",
    "                                                  batch_size=10,\n",
    "                                                    target_size=(90,120),\n",
    "                                                  class_mode='categorical')\n",
    "\n",
    "validation_generator = validate_datagen.flow_from_directory(path+'val/',\n",
    "                                                      batch_size=10,\n",
    "                                                        target_size=(90,120),\n",
    "                                                      class_mode='categorical')\n",
    "\n",
    "test_generator = test_datagen.flow_from_directory(path+'test/',\n",
    "                                                      batch_size=10,\n",
    "                                                        target_size=(90,120),\n",
    "                                                      class_mode='categorical')"
   ]
  },
  {
   "cell_type": "markdown",
   "metadata": {},
   "source": [
    "### Train model (only the top layers)"
   ]
  },
  {
   "cell_type": "code",
   "execution_count": 16,
   "metadata": {
    "scrolled": true
   },
   "outputs": [
    {
     "name": "stdout",
     "output_type": "stream",
     "text": [
      "Epoch 1/50\n",
      "42/42 [==============================] - 69s 1s/step - loss: 1.9305 - accuracy: 0.5457 - val_loss: 0.2798 - val_accuracy: 0.8833\n",
      "Epoch 2/50\n",
      "42/42 [==============================] - 65s 2s/step - loss: 0.4515 - accuracy: 0.8226 - val_loss: 0.7849 - val_accuracy: 0.7667\n",
      "Epoch 3/50\n",
      "42/42 [==============================] - 67s 2s/step - loss: 0.3565 - accuracy: 0.8947 - val_loss: 0.2683 - val_accuracy: 0.9250\n",
      "Epoch 4/50\n",
      "42/42 [==============================] - 62s 1s/step - loss: 0.2436 - accuracy: 0.9113 - val_loss: 0.2691 - val_accuracy: 0.9083\n",
      "Epoch 5/50\n",
      "42/42 [==============================] - 61s 1s/step - loss: 0.2919 - accuracy: 0.9219 - val_loss: 0.2634 - val_accuracy: 0.8917\n",
      "Epoch 6/50\n",
      "42/42 [==============================] - 60s 1s/step - loss: 0.2621 - accuracy: 0.9118 - val_loss: 0.3351 - val_accuracy: 0.9250\n",
      "Epoch 7/50\n",
      "42/42 [==============================] - 62s 1s/step - loss: 0.3148 - accuracy: 0.8993 - val_loss: 0.6494 - val_accuracy: 0.8167\n",
      "Epoch 8/50\n",
      "42/42 [==============================] - 60s 1s/step - loss: 0.1622 - accuracy: 0.9309 - val_loss: 0.2929 - val_accuracy: 0.9333\n",
      "Epoch 9/50\n",
      "42/42 [==============================] - 61s 1s/step - loss: 0.2507 - accuracy: 0.9108 - val_loss: 0.2876 - val_accuracy: 0.9167\n",
      "Epoch 10/50\n",
      "42/42 [==============================] - 61s 1s/step - loss: 0.1339 - accuracy: 0.9590 - val_loss: 0.3124 - val_accuracy: 0.9333\n",
      "Epoch 11/50\n",
      "42/42 [==============================] - 59s 1s/step - loss: 0.2120 - accuracy: 0.9559 - val_loss: 0.2786 - val_accuracy: 0.9083\n",
      "Epoch 12/50\n",
      "42/42 [==============================] - 60s 1s/step - loss: 0.1071 - accuracy: 0.9467 - val_loss: 0.2966 - val_accuracy: 0.9250\n",
      "Epoch 13/50\n",
      "42/42 [==============================] - 62s 1s/step - loss: 0.1379 - accuracy: 0.9622 - val_loss: 0.2410 - val_accuracy: 0.9500\n",
      "Epoch 14/50\n",
      "42/42 [==============================] - 61s 1s/step - loss: 0.1708 - accuracy: 0.9468 - val_loss: 0.2546 - val_accuracy: 0.9417\n",
      "Epoch 15/50\n",
      "42/42 [==============================] - 65s 2s/step - loss: 0.0944 - accuracy: 0.9656 - val_loss: 0.4394 - val_accuracy: 0.8917\n",
      "Epoch 16/50\n",
      "42/42 [==============================] - 70s 2s/step - loss: 0.2092 - accuracy: 0.9171 - val_loss: 0.2096 - val_accuracy: 0.9167\n",
      "Epoch 17/50\n",
      "42/42 [==============================] - 69s 2s/step - loss: 0.1146 - accuracy: 0.9534 - val_loss: 0.2262 - val_accuracy: 0.9417\n",
      "Epoch 18/50\n",
      "42/42 [==============================] - 76s 2s/step - loss: 0.0930 - accuracy: 0.9727 - val_loss: 0.3775 - val_accuracy: 0.9333\n",
      "Epoch 19/50\n",
      "42/42 [==============================] - 70s 2s/step - loss: 0.1114 - accuracy: 0.9622 - val_loss: 0.2192 - val_accuracy: 0.9417\n",
      "Epoch 20/50\n",
      "42/42 [==============================] - 63s 2s/step - loss: 0.0924 - accuracy: 0.9716 - val_loss: 0.1821 - val_accuracy: 0.9500\n",
      "Epoch 21/50\n",
      "42/42 [==============================] - 61s 1s/step - loss: 0.1358 - accuracy: 0.9668 - val_loss: 0.1999 - val_accuracy: 0.9417\n",
      "Epoch 22/50\n",
      "42/42 [==============================] - 63s 2s/step - loss: 0.0841 - accuracy: 0.9697 - val_loss: 0.2988 - val_accuracy: 0.9417\n",
      "Epoch 23/50\n",
      "42/42 [==============================] - 59s 1s/step - loss: 0.0900 - accuracy: 0.9655 - val_loss: 0.3434 - val_accuracy: 0.9250\n",
      "Epoch 24/50\n",
      "42/42 [==============================] - 60s 1s/step - loss: 0.1687 - accuracy: 0.9512 - val_loss: 0.3206 - val_accuracy: 0.9417\n",
      "Epoch 25/50\n",
      "42/42 [==============================] - 61s 1s/step - loss: 0.1805 - accuracy: 0.9529 - val_loss: 0.3820 - val_accuracy: 0.9083\n",
      "Epoch 26/50\n",
      "42/42 [==============================] - 60s 1s/step - loss: 0.0827 - accuracy: 0.9728 - val_loss: 0.2879 - val_accuracy: 0.9417\n",
      "Epoch 27/50\n",
      "42/42 [==============================] - 44s 1s/step - loss: 0.1107 - accuracy: 0.9484 - val_loss: 0.2445 - val_accuracy: 0.9250\n",
      "Epoch 28/50\n",
      "42/42 [==============================] - 37s 878ms/step - loss: 0.1418 - accuracy: 0.9649 - val_loss: 0.2598 - val_accuracy: 0.9250\n",
      "Epoch 29/50\n",
      "42/42 [==============================] - 37s 880ms/step - loss: 0.1211 - accuracy: 0.9612 - val_loss: 0.9714 - val_accuracy: 0.8167\n",
      "Epoch 30/50\n",
      "42/42 [==============================] - 41s 980ms/step - loss: 0.1258 - accuracy: 0.9596 - val_loss: 0.2923 - val_accuracy: 0.9250\n",
      "Epoch 31/50\n",
      "42/42 [==============================] - 37s 897ms/step - loss: 0.0731 - accuracy: 0.9806 - val_loss: 0.2511 - val_accuracy: 0.9417\n",
      "Epoch 32/50\n",
      "42/42 [==============================] - 38s 911ms/step - loss: 0.0693 - accuracy: 0.9750 - val_loss: 0.2565 - val_accuracy: 0.9333\n",
      "Epoch 33/50\n",
      "42/42 [==============================] - 39s 932ms/step - loss: 0.1583 - accuracy: 0.9511 - val_loss: 0.2868 - val_accuracy: 0.9417\n",
      "Epoch 34/50\n",
      "42/42 [==============================] - 41s 965ms/step - loss: 0.1067 - accuracy: 0.9648 - val_loss: 0.3898 - val_accuracy: 0.9333\n",
      "Epoch 35/50\n",
      "42/42 [==============================] - 39s 939ms/step - loss: 0.1444 - accuracy: 0.9753 - val_loss: 0.4325 - val_accuracy: 0.9250\n",
      "Epoch 36/50\n",
      "42/42 [==============================] - 36s 852ms/step - loss: 0.0498 - accuracy: 0.9805 - val_loss: 0.2729 - val_accuracy: 0.9500\n",
      "Epoch 37/50\n",
      "42/42 [==============================] - 39s 926ms/step - loss: 0.1905 - accuracy: 0.9590 - val_loss: 0.3976 - val_accuracy: 0.9333\n",
      "Epoch 38/50\n",
      "42/42 [==============================] - 37s 876ms/step - loss: 0.1917 - accuracy: 0.9512 - val_loss: 0.3605 - val_accuracy: 0.9250\n",
      "Epoch 39/50\n",
      "42/42 [==============================] - 39s 917ms/step - loss: 0.0723 - accuracy: 0.9760 - val_loss: 0.3403 - val_accuracy: 0.9417\n",
      "Epoch 40/50\n",
      "42/42 [==============================] - 37s 879ms/step - loss: 0.0798 - accuracy: 0.9700 - val_loss: 0.4919 - val_accuracy: 0.9250\n",
      "Epoch 41/50\n",
      "42/42 [==============================] - 33s 792ms/step - loss: 0.1086 - accuracy: 0.9644 - val_loss: 0.2971 - val_accuracy: 0.9250\n",
      "Epoch 42/50\n",
      "42/42 [==============================] - 33s 795ms/step - loss: 0.1030 - accuracy: 0.9749 - val_loss: 0.2497 - val_accuracy: 0.9500\n",
      "Epoch 43/50\n",
      "42/42 [==============================] - 37s 875ms/step - loss: 0.1256 - accuracy: 0.9586 - val_loss: 0.4493 - val_accuracy: 0.9167\n",
      "Epoch 44/50\n",
      "42/42 [==============================] - 35s 836ms/step - loss: 0.1215 - accuracy: 0.9561 - val_loss: 0.2886 - val_accuracy: 0.9417\n",
      "Epoch 45/50\n",
      "42/42 [==============================] - 34s 811ms/step - loss: 0.1083 - accuracy: 0.9686 - val_loss: 0.2148 - val_accuracy: 0.9500\n",
      "Epoch 46/50\n",
      "42/42 [==============================] - 35s 835ms/step - loss: 0.0393 - accuracy: 0.9903 - val_loss: 0.3854 - val_accuracy: 0.9417\n",
      "Epoch 47/50\n",
      "42/42 [==============================] - 33s 793ms/step - loss: 0.1353 - accuracy: 0.9621 - val_loss: 0.2396 - val_accuracy: 0.9500\n",
      "Epoch 48/50\n",
      "42/42 [==============================] - 33s 783ms/step - loss: 0.0594 - accuracy: 0.9829 - val_loss: 0.2166 - val_accuracy: 0.9417\n",
      "Epoch 49/50\n",
      "42/42 [==============================] - 33s 796ms/step - loss: 0.0461 - accuracy: 0.9750 - val_loss: 0.2542 - val_accuracy: 0.9500\n",
      "Epoch 50/50\n",
      "42/42 [==============================] - 34s 804ms/step - loss: 0.0942 - accuracy: 0.9694 - val_loss: 0.2518 - val_accuracy: 0.9333\n"
     ]
    }
   ],
   "source": [
    "for layer in base_model.layers:\n",
    "    layer.trainable = False\n",
    "\n",
    "model.compile(optimizer='rmsprop', loss='categorical_crossentropy',metrics=[\"accuracy\"])\n",
    "history = model.fit(\n",
    "  train_generator,\n",
    "  validation_data=validation_generator,\n",
    "  steps_per_epoch=train_generator.n//10,\n",
    "  epochs=50,\n",
    "  validation_steps=validation_generator.n//10\n",
    ")"
   ]
  },
  {
   "cell_type": "markdown",
   "metadata": {},
   "source": [
    "### Train (fine-tune bottom 2 layers)"
   ]
  },
  {
   "cell_type": "code",
   "execution_count": 19,
   "metadata": {
    "scrolled": true
   },
   "outputs": [
    {
     "name": "stdout",
     "output_type": "stream",
     "text": [
      "Epoch 1/50\n",
      "42/42 [==============================] - 22s 399ms/step - loss: 0.9911 - accuracy: 0.6863 - val_loss: 0.3323 - val_accuracy: 0.9083\n",
      "Epoch 2/50\n",
      "42/42 [==============================] - 15s 363ms/step - loss: 0.6563 - accuracy: 0.7732 - val_loss: 0.3127 - val_accuracy: 0.8917\n",
      "Epoch 3/50\n",
      "42/42 [==============================] - 16s 382ms/step - loss: 0.5880 - accuracy: 0.8013 - val_loss: 0.3311 - val_accuracy: 0.8917\n",
      "Epoch 4/50\n",
      "42/42 [==============================] - 17s 406ms/step - loss: 0.3768 - accuracy: 0.8625 - val_loss: 0.3391 - val_accuracy: 0.8583\n",
      "Epoch 5/50\n",
      "42/42 [==============================] - 16s 388ms/step - loss: 0.5096 - accuracy: 0.8072 - val_loss: 0.3852 - val_accuracy: 0.8417\n",
      "Epoch 6/50\n",
      "42/42 [==============================] - 17s 404ms/step - loss: 0.4672 - accuracy: 0.8233 - val_loss: 0.3868 - val_accuracy: 0.8583\n",
      "Epoch 7/50\n",
      "42/42 [==============================] - 17s 401ms/step - loss: 0.4256 - accuracy: 0.8695 - val_loss: 0.3624 - val_accuracy: 0.9000\n",
      "Epoch 8/50\n",
      "42/42 [==============================] - 18s 418ms/step - loss: 0.3534 - accuracy: 0.8686 - val_loss: 0.3203 - val_accuracy: 0.9000\n",
      "Epoch 9/50\n",
      "42/42 [==============================] - 16s 390ms/step - loss: 0.3961 - accuracy: 0.8437 - val_loss: 0.3447 - val_accuracy: 0.8917\n",
      "Epoch 10/50\n",
      "42/42 [==============================] - 16s 377ms/step - loss: 0.3465 - accuracy: 0.8576 - val_loss: 0.3158 - val_accuracy: 0.8917\n",
      "Epoch 11/50\n",
      "42/42 [==============================] - 16s 380ms/step - loss: 0.3225 - accuracy: 0.8902 - val_loss: 0.3067 - val_accuracy: 0.9167\n",
      "Epoch 12/50\n",
      "42/42 [==============================] - 16s 380ms/step - loss: 0.2883 - accuracy: 0.8878 - val_loss: 0.2909 - val_accuracy: 0.9250\n",
      "Epoch 13/50\n",
      "42/42 [==============================] - 16s 382ms/step - loss: 0.3816 - accuracy: 0.8605 - val_loss: 0.2839 - val_accuracy: 0.9167\n",
      "Epoch 14/50\n",
      "42/42 [==============================] - 16s 378ms/step - loss: 0.3674 - accuracy: 0.8788 - val_loss: 0.2697 - val_accuracy: 0.9083\n",
      "Epoch 15/50\n",
      "42/42 [==============================] - 16s 390ms/step - loss: 0.3725 - accuracy: 0.8728 - val_loss: 0.2742 - val_accuracy: 0.8917\n",
      "Epoch 16/50\n",
      "42/42 [==============================] - 16s 382ms/step - loss: 0.4612 - accuracy: 0.8549 - val_loss: 0.2707 - val_accuracy: 0.9000\n",
      "Epoch 17/50\n",
      "42/42 [==============================] - 17s 396ms/step - loss: 0.2920 - accuracy: 0.8866 - val_loss: 0.2723 - val_accuracy: 0.8917\n",
      "Epoch 18/50\n",
      "42/42 [==============================] - 18s 424ms/step - loss: 0.2494 - accuracy: 0.9035 - val_loss: 0.2525 - val_accuracy: 0.9000\n",
      "Epoch 19/50\n",
      "42/42 [==============================] - 16s 373ms/step - loss: 0.2768 - accuracy: 0.8996 - val_loss: 0.2575 - val_accuracy: 0.9000\n",
      "Epoch 20/50\n",
      "42/42 [==============================] - 18s 440ms/step - loss: 0.3273 - accuracy: 0.8531 - val_loss: 0.2780 - val_accuracy: 0.9000\n",
      "Epoch 21/50\n",
      "42/42 [==============================] - 22s 521ms/step - loss: 0.2009 - accuracy: 0.9036 - val_loss: 0.2866 - val_accuracy: 0.8917\n",
      "Epoch 22/50\n",
      "42/42 [==============================] - 20s 469ms/step - loss: 0.2967 - accuracy: 0.9191 - val_loss: 0.2842 - val_accuracy: 0.8917\n",
      "Epoch 23/50\n",
      "42/42 [==============================] - 17s 408ms/step - loss: 0.3539 - accuracy: 0.9057 - val_loss: 0.2592 - val_accuracy: 0.9167\n",
      "Epoch 24/50\n",
      "42/42 [==============================] - 17s 400ms/step - loss: 0.2825 - accuracy: 0.8919 - val_loss: 0.2758 - val_accuracy: 0.9167\n",
      "Epoch 25/50\n",
      "42/42 [==============================] - 17s 399ms/step - loss: 0.2418 - accuracy: 0.9062 - val_loss: 0.2547 - val_accuracy: 0.9083\n",
      "Epoch 26/50\n",
      "42/42 [==============================] - 17s 406ms/step - loss: 0.2940 - accuracy: 0.8861 - val_loss: 0.2298 - val_accuracy: 0.9167\n",
      "Epoch 27/50\n",
      "42/42 [==============================] - 18s 437ms/step - loss: 0.4013 - accuracy: 0.9074 - val_loss: 0.2386 - val_accuracy: 0.9000\n",
      "Epoch 28/50\n",
      "42/42 [==============================] - 18s 436ms/step - loss: 0.3061 - accuracy: 0.8967 - val_loss: 0.2392 - val_accuracy: 0.9083\n",
      "Epoch 29/50\n",
      "42/42 [==============================] - 17s 413ms/step - loss: 0.2362 - accuracy: 0.9063 - val_loss: 0.3041 - val_accuracy: 0.8667\n",
      "Epoch 30/50\n",
      "42/42 [==============================] - 17s 414ms/step - loss: 0.3103 - accuracy: 0.8920 - val_loss: 0.2360 - val_accuracy: 0.9083\n",
      "Epoch 31/50\n",
      "42/42 [==============================] - 25s 595ms/step - loss: 0.2609 - accuracy: 0.8790 - val_loss: 0.2433 - val_accuracy: 0.9083\n",
      "Epoch 32/50\n",
      "42/42 [==============================] - 28s 657ms/step - loss: 0.2470 - accuracy: 0.9026 - val_loss: 0.2011 - val_accuracy: 0.9083\n",
      "Epoch 33/50\n",
      "42/42 [==============================] - 30s 724ms/step - loss: 0.2234 - accuracy: 0.8984 - val_loss: 0.2582 - val_accuracy: 0.9000\n",
      "Epoch 34/50\n",
      "42/42 [==============================] - 29s 697ms/step - loss: 0.1711 - accuracy: 0.9464 - val_loss: 0.2424 - val_accuracy: 0.8917\n",
      "Epoch 35/50\n",
      "42/42 [==============================] - 29s 690ms/step - loss: 0.1948 - accuracy: 0.9373 - val_loss: 0.2226 - val_accuracy: 0.8917\n",
      "Epoch 36/50\n",
      "42/42 [==============================] - 29s 679ms/step - loss: 0.2510 - accuracy: 0.8947 - val_loss: 0.2594 - val_accuracy: 0.8917\n",
      "Epoch 37/50\n",
      "42/42 [==============================] - 29s 697ms/step - loss: 0.1929 - accuracy: 0.9177 - val_loss: 0.2340 - val_accuracy: 0.9000\n",
      "Epoch 38/50\n",
      "42/42 [==============================] - 29s 696ms/step - loss: 0.2402 - accuracy: 0.8862 - val_loss: 0.2378 - val_accuracy: 0.9083\n",
      "Epoch 39/50\n",
      "42/42 [==============================] - 29s 676ms/step - loss: 0.2604 - accuracy: 0.9270 - val_loss: 0.2363 - val_accuracy: 0.9000\n",
      "Epoch 40/50\n",
      "42/42 [==============================] - 29s 685ms/step - loss: 0.1706 - accuracy: 0.9249 - val_loss: 0.2328 - val_accuracy: 0.9000\n",
      "Epoch 41/50\n",
      "42/42 [==============================] - 30s 709ms/step - loss: 0.2683 - accuracy: 0.8968 - val_loss: 0.2191 - val_accuracy: 0.9083\n",
      "Epoch 42/50\n",
      "42/42 [==============================] - 29s 682ms/step - loss: 0.2307 - accuracy: 0.8974 - val_loss: 0.2219 - val_accuracy: 0.9167\n",
      "Epoch 43/50\n",
      "42/42 [==============================] - 29s 687ms/step - loss: 0.2955 - accuracy: 0.8792 - val_loss: 0.2363 - val_accuracy: 0.9000\n",
      "Epoch 44/50\n",
      "42/42 [==============================] - 29s 682ms/step - loss: 0.2844 - accuracy: 0.9152 - val_loss: 0.2568 - val_accuracy: 0.9083\n",
      "Epoch 45/50\n",
      "42/42 [==============================] - 31s 736ms/step - loss: 0.2219 - accuracy: 0.9036 - val_loss: 0.2687 - val_accuracy: 0.9000\n",
      "Epoch 46/50\n",
      "42/42 [==============================] - 30s 718ms/step - loss: 0.2696 - accuracy: 0.8906 - val_loss: 0.2687 - val_accuracy: 0.8833\n",
      "Epoch 47/50\n",
      "42/42 [==============================] - 30s 704ms/step - loss: 0.2264 - accuracy: 0.9077 - val_loss: 0.2716 - val_accuracy: 0.8917\n",
      "Epoch 48/50\n",
      "42/42 [==============================] - 30s 713ms/step - loss: 0.1468 - accuracy: 0.9296 - val_loss: 0.2678 - val_accuracy: 0.8917\n",
      "Epoch 49/50\n",
      "42/42 [==============================] - 29s 694ms/step - loss: 0.2671 - accuracy: 0.9132 - val_loss: 0.2550 - val_accuracy: 0.8917\n",
      "Epoch 50/50\n",
      "42/42 [==============================] - 29s 686ms/step - loss: 0.2242 - accuracy: 0.9304 - val_loss: 0.2956 - val_accuracy: 0.8917\n"
     ]
    }
   ],
   "source": [
    "for layer in model.layers[:249]:\n",
    "    layer.trainable = False\n",
    "for layer in model.layers[249:]:\n",
    "    layer.trainable = True\n",
    "\n",
    "model.compile(optimizer=SGD(lr=0.0001, momentum=0.9), loss='categorical_crossentropy',metrics=[\"accuracy\"])\n",
    "history = model.fit(\n",
    "  train_generator,\n",
    "  validation_data=validation_generator,\n",
    "  steps_per_epoch=train_generator.n//10,\n",
    "  epochs=50,\n",
    "  validation_steps=validation_generator.n//10\n",
    ")"
   ]
  },
  {
   "cell_type": "markdown",
   "metadata": {},
   "source": [
    "### Evaluate model & Visualize performance"
   ]
  },
  {
   "cell_type": "code",
   "execution_count": 17,
   "metadata": {},
   "outputs": [
    {
     "name": "stdout",
     "output_type": "stream",
     "text": [
      "7/7 [==============================] - 4s 535ms/step - loss: 0.3473 - accuracy: 0.9219\n"
     ]
    },
    {
     "data": {
      "text/plain": [
       "[0.3472995162010193, 0.921875]"
      ]
     },
     "execution_count": 17,
     "metadata": {},
     "output_type": "execute_result"
    }
   ],
   "source": [
    "model.evaluate(test_generator)"
   ]
  },
  {
   "cell_type": "code",
   "execution_count": 18,
   "metadata": {},
   "outputs": [
    {
     "data": {
      "image/png": "[encoded data removed]",
      "text/plain": [
       "<Figure size 432x288 with 1 Axes>"
      ]
     },
     "metadata": {
      "needs_background": "light"
     },
     "output_type": "display_data"
    }
   ],
   "source": [
    "acc = history.history['accuracy']\n",
    "val_acc = history.history['val_accuracy']\n",
    "loss = history.history['loss']\n",
    "val_loss = history.history['val_loss']\n",
    "\n",
    "epochs = range(len(acc))\n",
    "\n",
    "plt.plot(epochs, acc, 'r', label='Training accuracy')\n",
    "plt.plot(epochs, val_acc, 'b', label='Validation accuracy')\n",
    "plt.title('Training and validation accuracy')\n",
    "plt.legend(loc=0)\n",
    "fig = plt.gcf()\n",
    "fig.savefig('from_VGG16.png',dpi=fig.dpi)\n",
    "plt.show()\n",
    "\n"
   ]
  },
  {
   "cell_type": "markdown",
   "metadata": {},
   "source": [
    "### Save model"
   ]
  },
  {
   "cell_type": "code",
   "execution_count": 19,
   "metadata": {},
   "outputs": [],
   "source": [
    "model.save('from_VGG16.h5')\n",
    "model.save_weights('from_VGG16_weights.h5')"
   ]
  }
 ],
 "metadata": {
  "kernelspec": {
   "display_name": "Python 3",
   "language": "python",
   "name": "python3"
  },
  "language_info": {
   "codemirror_mode": {
    "name": "ipython",
    "version": 3
   },
   "file_extension": ".py",
   "mimetype": "text/x-python",
   "name": "python",
   "nbconvert_exporter": "python",
   "pygments_lexer": "ipython3",
   "version": "3.6.12"
  }
 },
 "nbformat": 4,
 "nbformat_minor": 4
}
