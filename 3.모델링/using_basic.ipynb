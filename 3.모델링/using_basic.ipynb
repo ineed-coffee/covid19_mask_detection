{
 "cells": [
  {
   "cell_type": "code",
   "execution_count": 1,
   "metadata": {},
   "outputs": [],
   "source": [
    "from keras.models import Model , Sequential\n",
    "from keras.layers import GlobalAveragePooling2D , Dropout , Dense , Activation\n",
    "from keras.layers import Conv2D , BatchNormalization , Flatten , MaxPooling2D\n",
    "from keras.preprocessing.image import ImageDataGenerator\n",
    "from keras.optimizers import Adam\n",
    "from keras.preprocessing import image_dataset_from_directory\n",
    "from keras.models import load_model\n",
    "import matplotlib.pyplot as plt"
   ]
  },
  {
   "cell_type": "markdown",
   "metadata": {},
   "source": [
    "### Compile model"
   ]
  },
  {
   "cell_type": "code",
   "execution_count": 2,
   "metadata": {},
   "outputs": [
    {
     "name": "stdout",
     "output_type": "stream",
     "text": [
      "Model: \"sequential\"\n",
      "_________________________________________________________________\n",
      "Layer (type)                 Output Shape              Param #   \n",
      "=================================================================\n",
      "conv2d (Conv2D)              (None, 86, 116, 32)       2432      \n",
      "_________________________________________________________________\n",
      "activation (Activation)      (None, 86, 116, 32)       0         \n",
      "_________________________________________________________________\n",
      "max_pooling2d (MaxPooling2D) (None, 43, 58, 32)        0         \n",
      "_________________________________________________________________\n",
      "conv2d_1 (Conv2D)            (None, 39, 54, 128)       102528    \n",
      "_________________________________________________________________\n",
      "activation_1 (Activation)    (None, 39, 54, 128)       0         \n",
      "_________________________________________________________________\n",
      "max_pooling2d_1 (MaxPooling2 (None, 19, 27, 128)       0         \n",
      "_________________________________________________________________\n",
      "flatten (Flatten)            (None, 65664)             0         \n",
      "_________________________________________________________________\n",
      "dense (Dense)                (None, 128)               8405120   \n",
      "_________________________________________________________________\n",
      "dense_1 (Dense)              (None, 4)                 516       \n",
      "=================================================================\n",
      "Total params: 8,510,596\n",
      "Trainable params: 8,510,596\n",
      "Non-trainable params: 0\n",
      "_________________________________________________________________\n"
     ]
    }
   ],
   "source": [
    "model = Sequential()\n",
    "\n",
    "model.add(Conv2D(input_shape = (90,120,3), filters = 32, kernel_size = (5,5), strides = (1,1)))\n",
    "model.add(Activation('relu'))\n",
    "model.add(MaxPooling2D(pool_size = (2,2)))\n",
    "\n",
    "model.add(Conv2D(filters = 128, kernel_size = (5,5), strides = (1,1)))\n",
    "model.add(Activation('relu'))\n",
    "model.add(MaxPooling2D(pool_size = (2,2)))\n",
    "\n",
    "model.add(Flatten())\n",
    "model.add(Dense(128, activation = 'relu'))\n",
    "model.add(Dense(4, activation = 'softmax'))\n",
    "\n",
    "adam = Adam(lr = 0.001)\n",
    "model.compile(loss = 'categorical_crossentropy', optimizer = adam, metrics = ['accuracy'])\n",
    "model.summary()"
   ]
  },
  {
   "cell_type": "markdown",
   "metadata": {},
   "source": [
    "### Load images"
   ]
  },
  {
   "cell_type": "code",
   "execution_count": 3,
   "metadata": {},
   "outputs": [],
   "source": [
    "path = \"D:/test/dataset/\""
   ]
  },
  {
   "cell_type": "code",
   "execution_count": 4,
   "metadata": {},
   "outputs": [],
   "source": [
    "train_datagen = ImageDataGenerator(rescale=1./255,\n",
    "                                   rotation_range=15,\n",
    "                                   width_shift_range=0.1,\n",
    "                                   height_shift_range=0.1,\n",
    "                                   shear_range=0.5,\n",
    "                                   zoom_range=[0.8, 2.0],\n",
    "                                   horizontal_flip=True,\n",
    "                                   vertical_flip=True,\n",
    "                                   fill_mode='nearest')\n",
    "\n",
    "validate_datagen = ImageDataGenerator(rescale=1./255.)\n",
    "test_datagen = ImageDataGenerator(rescale=1./255.)"
   ]
  },
  {
   "cell_type": "code",
   "execution_count": 5,
   "metadata": {
    "scrolled": true
   },
   "outputs": [
    {
     "name": "stdout",
     "output_type": "stream",
     "text": [
      "Found 424 images belonging to 4 classes.\n",
      "Found 124 images belonging to 4 classes.\n",
      "Found 64 images belonging to 4 classes.\n"
     ]
    }
   ],
   "source": [
    "train_generator = train_datagen.flow_from_directory(path+'train/',\n",
    "                                                  batch_size=10,\n",
    "                                                    target_size=(90,120),\n",
    "                                                  class_mode='categorical')\n",
    "\n",
    "validation_generator = validate_datagen.flow_from_directory(path+'val/',\n",
    "                                                      batch_size=10,\n",
    "                                                        target_size=(90,120),\n",
    "                                                      class_mode='categorical')\n",
    "\n",
    "test_generator = test_datagen.flow_from_directory(path+'test/',\n",
    "                                                      batch_size=10,\n",
    "                                                        target_size=(90,120),\n",
    "                                                      class_mode='categorical')"
   ]
  },
  {
   "cell_type": "markdown",
   "metadata": {},
   "source": [
    "### Train model"
   ]
  },
  {
   "cell_type": "code",
   "execution_count": 6,
   "metadata": {
    "scrolled": true
   },
   "outputs": [
    {
     "name": "stdout",
     "output_type": "stream",
     "text": [
      "Epoch 1/50\n",
      "42/42 [==============================] - 17s 380ms/step - loss: 2.6027 - accuracy: 0.3869 - val_loss: 0.7825 - val_accuracy: 0.6667\n",
      "Epoch 2/50\n",
      "42/42 [==============================] - 15s 345ms/step - loss: 1.0196 - accuracy: 0.5083 - val_loss: 0.4438 - val_accuracy: 0.8917\n",
      "Epoch 3/50\n",
      "42/42 [==============================] - 13s 317ms/step - loss: 0.6545 - accuracy: 0.7810 - val_loss: 0.4630 - val_accuracy: 0.8083\n",
      "Epoch 4/50\n",
      "42/42 [==============================] - 13s 315ms/step - loss: 0.5142 - accuracy: 0.7935 - val_loss: 0.4071 - val_accuracy: 0.8833\n",
      "Epoch 5/50\n",
      "42/42 [==============================] - 13s 315ms/step - loss: 0.5651 - accuracy: 0.7881 - val_loss: 0.3696 - val_accuracy: 0.9083\n",
      "Epoch 6/50\n",
      "42/42 [==============================] - 13s 320ms/step - loss: 0.4305 - accuracy: 0.8582 - val_loss: 0.3138 - val_accuracy: 0.9333\n",
      "Epoch 7/50\n",
      "42/42 [==============================] - 13s 316ms/step - loss: 0.4359 - accuracy: 0.8557 - val_loss: 0.3155 - val_accuracy: 0.9250\n",
      "Epoch 8/50\n",
      "42/42 [==============================] - 13s 319ms/step - loss: 0.5081 - accuracy: 0.8190 - val_loss: 0.3685 - val_accuracy: 0.8750\n",
      "Epoch 9/50\n",
      "42/42 [==============================] - 13s 314ms/step - loss: 0.4279 - accuracy: 0.8465 - val_loss: 0.2971 - val_accuracy: 0.9333\n",
      "Epoch 10/50\n",
      "42/42 [==============================] - 13s 312ms/step - loss: 0.3653 - accuracy: 0.8716 - val_loss: 0.4018 - val_accuracy: 0.8750\n",
      "Epoch 11/50\n",
      "42/42 [==============================] - 13s 316ms/step - loss: 0.4430 - accuracy: 0.8415 - val_loss: 0.3298 - val_accuracy: 0.9083\n",
      "Epoch 12/50\n",
      "42/42 [==============================] - 13s 316ms/step - loss: 0.3024 - accuracy: 0.9138 - val_loss: 0.3269 - val_accuracy: 0.9000\n",
      "Epoch 13/50\n",
      "42/42 [==============================] - 13s 313ms/step - loss: 0.3047 - accuracy: 0.8935 - val_loss: 0.4787 - val_accuracy: 0.7833\n",
      "Epoch 14/50\n",
      "42/42 [==============================] - 13s 315ms/step - loss: 0.5402 - accuracy: 0.7938 - val_loss: 0.2820 - val_accuracy: 0.9167\n",
      "Epoch 15/50\n",
      "42/42 [==============================] - 13s 319ms/step - loss: 0.3257 - accuracy: 0.8895 - val_loss: 0.2501 - val_accuracy: 0.9083\n",
      "Epoch 16/50\n",
      "42/42 [==============================] - 14s 325ms/step - loss: 0.3666 - accuracy: 0.8903 - val_loss: 0.2902 - val_accuracy: 0.9417\n",
      "Epoch 17/50\n",
      "42/42 [==============================] - 13s 317ms/step - loss: 0.3040 - accuracy: 0.9105 - val_loss: 0.2833 - val_accuracy: 0.9500\n",
      "Epoch 18/50\n",
      "42/42 [==============================] - 13s 315ms/step - loss: 0.3702 - accuracy: 0.8752 - val_loss: 0.3121 - val_accuracy: 0.8917\n",
      "Epoch 19/50\n",
      "42/42 [==============================] - 14s 339ms/step - loss: 0.2909 - accuracy: 0.9164 - val_loss: 0.2446 - val_accuracy: 0.9333\n",
      "Epoch 20/50\n",
      "42/42 [==============================] - 17s 393ms/step - loss: 0.2529 - accuracy: 0.9030 - val_loss: 0.3153 - val_accuracy: 0.9083\n",
      "Epoch 21/50\n",
      "42/42 [==============================] - 14s 338ms/step - loss: 0.2928 - accuracy: 0.8971 - val_loss: 0.3274 - val_accuracy: 0.8583\n",
      "Epoch 22/50\n",
      "42/42 [==============================] - 14s 330ms/step - loss: 0.2677 - accuracy: 0.9162 - val_loss: 0.2395 - val_accuracy: 0.9500\n",
      "Epoch 23/50\n",
      "42/42 [==============================] - 13s 309ms/step - loss: 0.2821 - accuracy: 0.8867 - val_loss: 0.1670 - val_accuracy: 0.9500\n",
      "Epoch 24/50\n",
      "42/42 [==============================] - 13s 314ms/step - loss: 0.3033 - accuracy: 0.9062 - val_loss: 0.4427 - val_accuracy: 0.8583\n",
      "Epoch 25/50\n",
      "42/42 [==============================] - 15s 349ms/step - loss: 0.3905 - accuracy: 0.8688 - val_loss: 0.4372 - val_accuracy: 0.8167\n",
      "Epoch 26/50\n",
      "42/42 [==============================] - 13s 316ms/step - loss: 0.2772 - accuracy: 0.8899 - val_loss: 0.2126 - val_accuracy: 0.9500\n",
      "Epoch 27/50\n",
      "42/42 [==============================] - 13s 318ms/step - loss: 0.2593 - accuracy: 0.9121 - val_loss: 0.2469 - val_accuracy: 0.9250\n",
      "Epoch 28/50\n",
      "42/42 [==============================] - 13s 318ms/step - loss: 0.2822 - accuracy: 0.9160 - val_loss: 0.2284 - val_accuracy: 0.9250\n",
      "Epoch 29/50\n",
      "42/42 [==============================] - 14s 324ms/step - loss: 0.2383 - accuracy: 0.9399 - val_loss: 0.2762 - val_accuracy: 0.9250\n",
      "Epoch 30/50\n",
      "42/42 [==============================] - 13s 320ms/step - loss: 0.3395 - accuracy: 0.8726 - val_loss: 0.3213 - val_accuracy: 0.9083\n",
      "Epoch 31/50\n",
      "42/42 [==============================] - 14s 322ms/step - loss: 0.2973 - accuracy: 0.8632 - val_loss: 0.1855 - val_accuracy: 0.9500\n",
      "Epoch 32/50\n",
      "42/42 [==============================] - 13s 319ms/step - loss: 0.2831 - accuracy: 0.8865 - val_loss: 0.1856 - val_accuracy: 0.9583\n",
      "Epoch 33/50\n",
      "42/42 [==============================] - 14s 330ms/step - loss: 0.2162 - accuracy: 0.9427 - val_loss: 0.1911 - val_accuracy: 0.9500\n",
      "Epoch 34/50\n",
      "42/42 [==============================] - 13s 320ms/step - loss: 0.2244 - accuracy: 0.9339 - val_loss: 0.2069 - val_accuracy: 0.9333\n",
      "Epoch 35/50\n",
      "42/42 [==============================] - 13s 321ms/step - loss: 0.2381 - accuracy: 0.9081 - val_loss: 0.2045 - val_accuracy: 0.9500\n",
      "Epoch 36/50\n",
      "42/42 [==============================] - 13s 315ms/step - loss: 0.1652 - accuracy: 0.9581 - val_loss: 0.1578 - val_accuracy: 0.9583\n",
      "Epoch 37/50\n",
      "42/42 [==============================] - 14s 322ms/step - loss: 0.2400 - accuracy: 0.9165 - val_loss: 0.2277 - val_accuracy: 0.9500\n",
      "Epoch 38/50\n",
      "42/42 [==============================] - 14s 329ms/step - loss: 0.2398 - accuracy: 0.9105 - val_loss: 0.2085 - val_accuracy: 0.9583\n",
      "Epoch 39/50\n",
      "42/42 [==============================] - 13s 306ms/step - loss: 0.2540 - accuracy: 0.9214 - val_loss: 0.1792 - val_accuracy: 0.9583\n",
      "Epoch 40/50\n",
      "42/42 [==============================] - 16s 385ms/step - loss: 0.1974 - accuracy: 0.9463 - val_loss: 0.1527 - val_accuracy: 0.9667\n",
      "Epoch 41/50\n",
      "42/42 [==============================] - 14s 325ms/step - loss: 0.1764 - accuracy: 0.9403 - val_loss: 0.1807 - val_accuracy: 0.9250\n",
      "Epoch 42/50\n",
      "42/42 [==============================] - 14s 329ms/step - loss: 0.2787 - accuracy: 0.9047 - val_loss: 0.2042 - val_accuracy: 0.9417\n",
      "Epoch 43/50\n",
      "42/42 [==============================] - 13s 316ms/step - loss: 0.2679 - accuracy: 0.8949 - val_loss: 0.1903 - val_accuracy: 0.9500\n",
      "Epoch 44/50\n",
      "42/42 [==============================] - 13s 321ms/step - loss: 0.1722 - accuracy: 0.9270 - val_loss: 0.3417 - val_accuracy: 0.8500\n",
      "Epoch 45/50\n",
      "42/42 [==============================] - 13s 318ms/step - loss: 0.1930 - accuracy: 0.9414 - val_loss: 0.1787 - val_accuracy: 0.9417\n",
      "Epoch 46/50\n",
      "42/42 [==============================] - 13s 316ms/step - loss: 0.1435 - accuracy: 0.9504 - val_loss: 0.1658 - val_accuracy: 0.9500\n",
      "Epoch 47/50\n",
      "42/42 [==============================] - 13s 318ms/step - loss: 0.1871 - accuracy: 0.9254 - val_loss: 0.2427 - val_accuracy: 0.9167\n",
      "Epoch 48/50\n",
      "42/42 [==============================] - 14s 324ms/step - loss: 0.1675 - accuracy: 0.9381 - val_loss: 0.1856 - val_accuracy: 0.9417\n",
      "Epoch 49/50\n",
      "42/42 [==============================] - 15s 353ms/step - loss: 0.1652 - accuracy: 0.9478 - val_loss: 0.2060 - val_accuracy: 0.9333\n",
      "Epoch 50/50\n",
      "42/42 [==============================] - 13s 311ms/step - loss: 0.1690 - accuracy: 0.9527 - val_loss: 0.1896 - val_accuracy: 0.9333\n"
     ]
    }
   ],
   "source": [
    "history = model.fit(\n",
    "  train_generator,\n",
    "  validation_data=validation_generator,\n",
    "  steps_per_epoch=train_generator.n//10,\n",
    "  epochs=50,\n",
    "  validation_steps=validation_generator.n//10\n",
    ")"
   ]
  },
  {
   "cell_type": "markdown",
   "metadata": {},
   "source": [
    "### Evaluate model & Visualize performance"
   ]
  },
  {
   "cell_type": "code",
   "execution_count": 7,
   "metadata": {},
   "outputs": [
    {
     "name": "stdout",
     "output_type": "stream",
     "text": [
      "7/7 [==============================] - 1s 122ms/step - loss: 0.3874 - accuracy: 0.9062\n"
     ]
    },
    {
     "data": {
      "text/plain": [
       "[0.3873745799064636, 0.90625]"
      ]
     },
     "execution_count": 7,
     "metadata": {},
     "output_type": "execute_result"
    }
   ],
   "source": [
    "model.evaluate(test_generator)"
   ]
  },
  {
   "cell_type": "code",
   "execution_count": 8,
   "metadata": {},
   "outputs": [
    {
     "data": {
      "image/png": "[encoded data removed]",
      "text/plain": [
       "<Figure size 432x288 with 1 Axes>"
      ]
     },
     "metadata": {
      "needs_background": "light"
     },
     "output_type": "display_data"
    }
   ],
   "source": [
    "acc = history.history['accuracy']\n",
    "val_acc = history.history['val_accuracy']\n",
    "loss = history.history['loss']\n",
    "val_loss = history.history['val_loss']\n",
    "\n",
    "epochs = range(len(acc))\n",
    "\n",
    "plt.plot(epochs, acc, 'r', label='Training accuracy')\n",
    "plt.plot(epochs, val_acc, 'b', label='Validation accuracy')\n",
    "plt.title('Training and validation accuracy')\n",
    "plt.legend(loc=0)\n",
    "fig = plt.gcf()\n",
    "fig.savefig('from_basic.png',dpi=fig.dpi)\n",
    "plt.show()\n",
    "\n"
   ]
  },
  {
   "cell_type": "markdown",
   "metadata": {},
   "source": [
    "### Save model"
   ]
  },
  {
   "cell_type": "code",
   "execution_count": 9,
   "metadata": {},
   "outputs": [],
   "source": [
    "model.save('from_basic2.h5')\n",
    "model.save_weights('from_basic_weights.h5')"
   ]
  }
 ],
 "metadata": {
  "kernelspec": {
   "display_name": "Python 3",
   "language": "python",
   "name": "python3"
  },
  "language_info": {
   "codemirror_mode": {
    "name": "ipython",
    "version": 3
   },
   "file_extension": ".py",
   "mimetype": "text/x-python",
   "name": "python",
   "nbconvert_exporter": "python",
   "pygments_lexer": "ipython3",
   "version": "3.6.12"
  }
 },
 "nbformat": 4,
 "nbformat_minor": 4
}
