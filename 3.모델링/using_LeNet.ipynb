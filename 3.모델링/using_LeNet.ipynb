{
 "cells": [
  {
   "cell_type": "code",
   "execution_count": 12,
   "metadata": {},
   "outputs": [],
   "source": [
    "from keras.models import Sequential\n",
    "from keras.layers.convolutional import Conv2D , MaxPooling2D\n",
    "from keras.layers.core import Activation, Flatten, Dense\n",
    "from keras.preprocessing.image import ImageDataGenerator\n",
    "from keras.optimizers import Adam\n",
    "import matplotlib.pyplot as plt"
   ]
  },
  {
   "cell_type": "markdown",
   "metadata": {},
   "source": [
    "### Compile model"
   ]
  },
  {
   "cell_type": "code",
   "execution_count": 2,
   "metadata": {},
   "outputs": [],
   "source": [
    "class LeNet : \n",
    "    @staticmethod\n",
    "    def build(input_shape, classes):\n",
    "        model = Sequential()\n",
    "        model.add(Conv2D(20, kernel_size = 5, padding=\"same\", input_shape=input_shape))\n",
    "        model.add(Activation(\"relu\"))\n",
    "        model.add(MaxPooling2D(pool_size = (2,2), strides = (2,2)))\n",
    "        model.add(Conv2D(50, kernel_size = 5, padding=\"same\"))\n",
    "        model.add(Activation(\"relu\"))\n",
    "        model.add(MaxPooling2D(pool_size = (2,2), strides = (2,2)))\n",
    "        model.add(Flatten())\n",
    "        model.add(Dense(500))\n",
    "        model.add(Activation(\"relu\"))\n",
    "        model.add(Dense(classes))\n",
    "        model.add(Activation(\"softmax\"))\n",
    "        return model"
   ]
  },
  {
   "cell_type": "code",
   "execution_count": 3,
   "metadata": {},
   "outputs": [],
   "source": [
    "model = LeNet.build(input_shape = (90, 120, 3), classes = 4)\n",
    "model.compile(loss = \"categorical_crossentropy\", optimizer=Adam(), metrics=[\"accuracy\"])"
   ]
  },
  {
   "cell_type": "markdown",
   "metadata": {},
   "source": [
    "### Load Images"
   ]
  },
  {
   "cell_type": "code",
   "execution_count": 4,
   "metadata": {},
   "outputs": [],
   "source": [
    "path = \"D:/test/dataset/\""
   ]
  },
  {
   "cell_type": "code",
   "execution_count": 7,
   "metadata": {},
   "outputs": [],
   "source": [
    "train_datagen = ImageDataGenerator(rescale=1./255,\n",
    "                                   rotation_range=15,\n",
    "                                   width_shift_range=0.1,\n",
    "                                   height_shift_range=0.1,\n",
    "                                   shear_range=0.5,\n",
    "                                   zoom_range=[0.8, 2.0],\n",
    "                                   horizontal_flip=True,\n",
    "                                   vertical_flip=True,\n",
    "                                   fill_mode='nearest')\n",
    "\n",
    "validate_datagen = ImageDataGenerator(rescale=1./255.)\n",
    "test_datagen = ImageDataGenerator(rescale=1./255.)"
   ]
  },
  {
   "cell_type": "code",
   "execution_count": 8,
   "metadata": {},
   "outputs": [
    {
     "name": "stdout",
     "output_type": "stream",
     "text": [
      "Found 424 images belonging to 4 classes.\n",
      "Found 124 images belonging to 4 classes.\n",
      "Found 64 images belonging to 4 classes.\n"
     ]
    }
   ],
   "source": [
    "train_generator = train_datagen.flow_from_directory(path+'train/',\n",
    "                                                  batch_size=10,\n",
    "                                                    target_size=(90,120),\n",
    "                                                  class_mode='categorical')\n",
    "\n",
    "validation_generator = validate_datagen.flow_from_directory(path+'val/',\n",
    "                                                      batch_size=10,\n",
    "                                                        target_size=(90,120),\n",
    "                                                      class_mode='categorical')\n",
    "\n",
    "test_generator = test_datagen.flow_from_directory(path+'test/',\n",
    "                                                      batch_size=10,\n",
    "                                                        target_size=(90,120),\n",
    "                                                      class_mode='categorical')"
   ]
  },
  {
   "cell_type": "markdown",
   "metadata": {},
   "source": [
    "### Train model"
   ]
  },
  {
   "cell_type": "code",
   "execution_count": 9,
   "metadata": {
    "scrolled": true
   },
   "outputs": [
    {
     "name": "stdout",
     "output_type": "stream",
     "text": [
      "Epoch 1/50\n",
      "42/42 [==============================] - 29s 569ms/step - loss: 1.6152 - accuracy: 0.4318 - val_loss: 0.4868 - val_accuracy: 0.8750\n",
      "Epoch 2/50\n",
      "42/42 [==============================] - 22s 529ms/step - loss: 0.5779 - accuracy: 0.7633 - val_loss: 0.4675 - val_accuracy: 0.8333\n",
      "Epoch 3/50\n",
      "42/42 [==============================] - 24s 568ms/step - loss: 0.4481 - accuracy: 0.8403 - val_loss: 0.4277 - val_accuracy: 0.8000\n",
      "Epoch 4/50\n",
      "42/42 [==============================] - 21s 503ms/step - loss: 0.4366 - accuracy: 0.8586 - val_loss: 0.2625 - val_accuracy: 0.9333\n",
      "Epoch 5/50\n",
      "42/42 [==============================] - 22s 528ms/step - loss: 0.4720 - accuracy: 0.8394 - val_loss: 0.4704 - val_accuracy: 0.8417\n",
      "Epoch 6/50\n",
      "42/42 [==============================] - 22s 521ms/step - loss: 0.4424 - accuracy: 0.8421 - val_loss: 0.3132 - val_accuracy: 0.9083\n",
      "Epoch 7/50\n",
      "42/42 [==============================] - 23s 533ms/step - loss: 0.3416 - accuracy: 0.8704 - val_loss: 0.3083 - val_accuracy: 0.9167\n",
      "Epoch 8/50\n",
      "42/42 [==============================] - 22s 520ms/step - loss: 0.4274 - accuracy: 0.8391 - val_loss: 0.3102 - val_accuracy: 0.9000\n",
      "Epoch 9/50\n",
      "42/42 [==============================] - 22s 516ms/step - loss: 0.3879 - accuracy: 0.8691 - val_loss: 0.1783 - val_accuracy: 0.9333\n",
      "Epoch 10/50\n",
      "42/42 [==============================] - 22s 515ms/step - loss: 0.3005 - accuracy: 0.9227 - val_loss: 0.2656 - val_accuracy: 0.9500\n",
      "Epoch 11/50\n",
      "42/42 [==============================] - 23s 537ms/step - loss: 0.3326 - accuracy: 0.9016 - val_loss: 0.1927 - val_accuracy: 0.9417\n",
      "Epoch 12/50\n",
      "42/42 [==============================] - 22s 526ms/step - loss: 0.3004 - accuracy: 0.8921 - val_loss: 0.2316 - val_accuracy: 0.9500\n",
      "Epoch 13/50\n",
      "42/42 [==============================] - 23s 534ms/step - loss: 0.2833 - accuracy: 0.9192 - val_loss: 0.2105 - val_accuracy: 0.9417\n",
      "Epoch 14/50\n",
      "42/42 [==============================] - 23s 559ms/step - loss: 0.2443 - accuracy: 0.8938 - val_loss: 0.3061 - val_accuracy: 0.8750\n",
      "Epoch 15/50\n",
      "42/42 [==============================] - 22s 530ms/step - loss: 0.2794 - accuracy: 0.9012 - val_loss: 0.2151 - val_accuracy: 0.9500\n",
      "Epoch 16/50\n",
      "42/42 [==============================] - 23s 540ms/step - loss: 0.2755 - accuracy: 0.9142 - val_loss: 0.1693 - val_accuracy: 0.9667\n",
      "Epoch 17/50\n",
      "42/42 [==============================] - 22s 528ms/step - loss: 0.2366 - accuracy: 0.8932 - val_loss: 0.1659 - val_accuracy: 0.9583\n",
      "Epoch 18/50\n",
      "42/42 [==============================] - 23s 549ms/step - loss: 0.2991 - accuracy: 0.8941 - val_loss: 0.2435 - val_accuracy: 0.9000\n",
      "Epoch 19/50\n",
      "42/42 [==============================] - 23s 552ms/step - loss: 0.2707 - accuracy: 0.9140 - val_loss: 0.1679 - val_accuracy: 0.9417\n",
      "Epoch 20/50\n",
      "42/42 [==============================] - 25s 589ms/step - loss: 0.2519 - accuracy: 0.9211 - val_loss: 0.1843 - val_accuracy: 0.9417\n",
      "Epoch 21/50\n",
      "42/42 [==============================] - 23s 533ms/step - loss: 0.1826 - accuracy: 0.9425 - val_loss: 0.2386 - val_accuracy: 0.9250\n",
      "Epoch 22/50\n",
      "42/42 [==============================] - 24s 554ms/step - loss: 0.1833 - accuracy: 0.9471 - val_loss: 0.1478 - val_accuracy: 0.9500\n",
      "Epoch 23/50\n",
      "42/42 [==============================] - 22s 519ms/step - loss: 0.2340 - accuracy: 0.9033 - val_loss: 0.1944 - val_accuracy: 0.9500\n",
      "Epoch 24/50\n",
      "42/42 [==============================] - 23s 541ms/step - loss: 0.2900 - accuracy: 0.9097 - val_loss: 0.1748 - val_accuracy: 0.9583\n",
      "Epoch 25/50\n",
      "42/42 [==============================] - 23s 549ms/step - loss: 0.2724 - accuracy: 0.9166 - val_loss: 0.2731 - val_accuracy: 0.9083\n",
      "Epoch 26/50\n",
      "42/42 [==============================] - 16s 374ms/step - loss: 0.2403 - accuracy: 0.9268 - val_loss: 0.1404 - val_accuracy: 0.9583\n",
      "Epoch 27/50\n",
      "42/42 [==============================] - 12s 291ms/step - loss: 0.2068 - accuracy: 0.9315 - val_loss: 0.2205 - val_accuracy: 0.9417\n",
      "Epoch 28/50\n",
      "42/42 [==============================] - 12s 285ms/step - loss: 0.2152 - accuracy: 0.9150 - val_loss: 0.1407 - val_accuracy: 0.9500\n",
      "Epoch 29/50\n",
      "42/42 [==============================] - 13s 308ms/step - loss: 0.2033 - accuracy: 0.9319 - val_loss: 0.1207 - val_accuracy: 0.9583\n",
      "Epoch 30/50\n",
      "42/42 [==============================] - 13s 312ms/step - loss: 0.2484 - accuracy: 0.9342 - val_loss: 0.1909 - val_accuracy: 0.9333\n",
      "Epoch 31/50\n",
      "42/42 [==============================] - 12s 293ms/step - loss: 0.1695 - accuracy: 0.9341 - val_loss: 0.1611 - val_accuracy: 0.9417\n",
      "Epoch 32/50\n",
      "42/42 [==============================] - 13s 318ms/step - loss: 0.1632 - accuracy: 0.9598 - val_loss: 0.1203 - val_accuracy: 0.9500\n",
      "Epoch 33/50\n",
      "42/42 [==============================] - 12s 286ms/step - loss: 0.1727 - accuracy: 0.9604 - val_loss: 0.1969 - val_accuracy: 0.9500\n",
      "Epoch 34/50\n",
      "42/42 [==============================] - 12s 292ms/step - loss: 0.1630 - accuracy: 0.9534 - val_loss: 0.2291 - val_accuracy: 0.9250\n",
      "Epoch 35/50\n",
      "42/42 [==============================] - 12s 280ms/step - loss: 0.1389 - accuracy: 0.9509 - val_loss: 0.2617 - val_accuracy: 0.9167\n",
      "Epoch 36/50\n",
      "42/42 [==============================] - 12s 285ms/step - loss: 0.3060 - accuracy: 0.9071 - val_loss: 0.1551 - val_accuracy: 0.9500\n",
      "Epoch 37/50\n",
      "42/42 [==============================] - 12s 274ms/step - loss: 0.1662 - accuracy: 0.9535 - val_loss: 0.1227 - val_accuracy: 0.9667\n",
      "Epoch 38/50\n",
      "42/42 [==============================] - 12s 282ms/step - loss: 0.1389 - accuracy: 0.9496 - val_loss: 0.1109 - val_accuracy: 0.9500\n",
      "Epoch 39/50\n",
      "42/42 [==============================] - 13s 320ms/step - loss: 0.1151 - accuracy: 0.9586 - val_loss: 0.2209 - val_accuracy: 0.9250\n",
      "Epoch 40/50\n",
      "42/42 [==============================] - 13s 314ms/step - loss: 0.1231 - accuracy: 0.9577 - val_loss: 0.1629 - val_accuracy: 0.9583\n",
      "Epoch 41/50\n",
      "42/42 [==============================] - 12s 276ms/step - loss: 0.1182 - accuracy: 0.9661 - val_loss: 0.1871 - val_accuracy: 0.9250\n",
      "Epoch 42/50\n",
      "42/42 [==============================] - 11s 270ms/step - loss: 0.1505 - accuracy: 0.9540 - val_loss: 0.2160 - val_accuracy: 0.9583\n",
      "Epoch 43/50\n",
      "42/42 [==============================] - 11s 272ms/step - loss: 0.1817 - accuracy: 0.9281 - val_loss: 0.2870 - val_accuracy: 0.8917\n",
      "Epoch 44/50\n",
      "42/42 [==============================] - 12s 276ms/step - loss: 0.1598 - accuracy: 0.9395 - val_loss: 0.1896 - val_accuracy: 0.9417\n",
      "Epoch 45/50\n",
      "42/42 [==============================] - 11s 273ms/step - loss: 0.1454 - accuracy: 0.9325 - val_loss: 0.2043 - val_accuracy: 0.9417\n",
      "Epoch 46/50\n",
      "42/42 [==============================] - 13s 298ms/step - loss: 0.1426 - accuracy: 0.9566 - val_loss: 0.1355 - val_accuracy: 0.9500\n",
      "Epoch 47/50\n",
      "42/42 [==============================] - 12s 281ms/step - loss: 0.2168 - accuracy: 0.9328 - val_loss: 0.1426 - val_accuracy: 0.9500\n",
      "Epoch 48/50\n",
      "42/42 [==============================] - 12s 292ms/step - loss: 0.1201 - accuracy: 0.9681 - val_loss: 0.3115 - val_accuracy: 0.9083\n",
      "Epoch 49/50\n",
      "42/42 [==============================] - 12s 286ms/step - loss: 0.1250 - accuracy: 0.9427 - val_loss: 0.1857 - val_accuracy: 0.9333\n",
      "Epoch 50/50\n",
      "42/42 [==============================] - 12s 283ms/step - loss: 0.1240 - accuracy: 0.9686 - val_loss: 0.2546 - val_accuracy: 0.9000\n"
     ]
    }
   ],
   "source": [
    "history = model.fit(\n",
    "  train_generator,\n",
    "  validation_data=validation_generator,\n",
    "  steps_per_epoch=train_generator.n//10,\n",
    "  epochs=50,\n",
    "  validation_steps=validation_generator.n//10\n",
    ")"
   ]
  },
  {
   "cell_type": "markdown",
   "metadata": {},
   "source": [
    "### Evaluate model & Visualize performance"
   ]
  },
  {
   "cell_type": "code",
   "execution_count": 10,
   "metadata": {},
   "outputs": [
    {
     "name": "stdout",
     "output_type": "stream",
     "text": [
      "7/7 [==============================] - 0s 55ms/step - loss: 0.2408 - accuracy: 0.9062\n"
     ]
    },
    {
     "data": {
      "text/plain": [
       "[0.24084793031215668, 0.90625]"
      ]
     },
     "execution_count": 10,
     "metadata": {},
     "output_type": "execute_result"
    }
   ],
   "source": [
    "model.evaluate(test_generator)"
   ]
  },
  {
   "cell_type": "code",
   "execution_count": 13,
   "metadata": {},
   "outputs": [
    {
     "data": {
      "image/png": "[encoded data removed]",
      "text/plain": [
       "<Figure size 432x288 with 1 Axes>"
      ]
     },
     "metadata": {
      "needs_background": "light"
     },
     "output_type": "display_data"
    }
   ],
   "source": [
    "acc = history.history['accuracy']\n",
    "val_acc = history.history['val_accuracy']\n",
    "loss = history.history['loss']\n",
    "val_loss = history.history['val_loss']\n",
    "\n",
    "epochs = range(len(acc))\n",
    "\n",
    "plt.plot(epochs, acc, 'r', label='Training accuracy')\n",
    "plt.plot(epochs, val_acc, 'b', label='Validation accuracy')\n",
    "plt.title('Training and validation accuracy')\n",
    "plt.legend(loc=0)\n",
    "fig = plt.gcf()\n",
    "fig.savefig('from_LeNet.png',dpi=fig.dpi)\n",
    "plt.show()\n",
    "\n"
   ]
  },
  {
   "cell_type": "markdown",
   "metadata": {},
   "source": [
    "### Save model"
   ]
  },
  {
   "cell_type": "code",
   "execution_count": 14,
   "metadata": {},
   "outputs": [],
   "source": [
    "model.save('from_LeNet.h5')\n",
    "model.save_weights('from_LeNet_weights.h5')"
   ]
  }
 ],
 "metadata": {
  "kernelspec": {
   "display_name": "Python 3",
   "language": "python",
   "name": "python3"
  },
  "language_info": {
   "codemirror_mode": {
    "name": "ipython",
    "version": 3
   },
   "file_extension": ".py",
   "mimetype": "text/x-python",
   "name": "python",
   "nbconvert_exporter": "python",
   "pygments_lexer": "ipython3",
   "version": "3.6.12"
  }
 },
 "nbformat": 4,
 "nbformat_minor": 4
}
